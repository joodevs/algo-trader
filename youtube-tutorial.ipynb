{
 "cells": [
  {
   "cell_type": "markdown",
   "source": [
    "# Algorithmic Trading Python for Beginners"
   ],
   "metadata": {
    "collapsed": false,
    "pycharm": {
     "name": "#%% md\n"
    }
   }
  },
  {
   "cell_type": "code",
   "execution_count": null,
   "metadata": {
    "collapsed": true,
    "pycharm": {
     "name": "#%%\n",
     "is_executing": true
    }
   },
   "outputs": [],
   "source": [
    "import yfinance as yf\n",
    "import pandas as pd\n",
    "import numpy as np\n",
    "import matplotlib.pyplot as plt"
   ]
  },
  {
   "cell_type": "markdown",
   "source": [
    "## 1. Importing and Pre-Processing Data"
   ],
   "metadata": {
    "collapsed": false,
    "pycharm": {
     "name": "#%% md\n"
    }
   }
  },
  {
   "cell_type": "code",
   "execution_count": null,
   "outputs": [],
   "source": [
    "# Retrieve Apple from Yahoo Finance\n",
    "Apple = yf.download(\"AAPL\", start='2010-01-01', end='2021-01-01')\n",
    "Apple"
   ],
   "metadata": {
    "collapsed": false,
    "pycharm": {
     "name": "#%%\n",
     "is_executing": true
    }
   }
  },
  {
   "cell_type": "code",
   "execution_count": null,
   "outputs": [],
   "source": [
    "# Obtain multiple stocks using a list\n",
    "ticker = [\"SPY\", \"AAPL\", \"KO\"]\n",
    "stocks = yf.download(ticker, start='2010-01-01', end='2021-01-01')\n",
    "stocks"
   ],
   "metadata": {
    "collapsed": false,
    "pycharm": {
     "name": "#%%\n",
     "is_executing": true
    }
   }
  },
  {
   "cell_type": "code",
   "execution_count": null,
   "outputs": [],
   "source": [
    "# Print top five\n",
    "stocks.head()"
   ],
   "metadata": {
    "collapsed": false,
    "pycharm": {
     "name": "#%%\n",
     "is_executing": true
    }
   }
  },
  {
   "cell_type": "code",
   "execution_count": null,
   "outputs": [],
   "source": [
    "# Print bottom five\n",
    "stocks.tail()"
   ],
   "metadata": {
    "collapsed": false,
    "pycharm": {
     "name": "#%%\n",
     "is_executing": true
    }
   }
  },
  {
   "cell_type": "code",
   "execution_count": null,
   "outputs": [],
   "source": [
    "# Print general info about stocks\n",
    "stocks.info()"
   ],
   "metadata": {
    "collapsed": false,
    "pycharm": {
     "name": "#%%\n",
     "is_executing": true
    }
   }
  },
  {
   "cell_type": "code",
   "execution_count": null,
   "outputs": [],
   "source": [
    "# Export stocks into .csv and import it back\n",
    "stocks.to_csv(\"stocksYT.csv\")\n",
    "stocks = pd.read_csv(\"stocksYT.csv\")\n",
    "stocks"
   ],
   "metadata": {
    "collapsed": false,
    "pycharm": {
     "name": "#%%\n",
     "is_executing": true
    }
   }
  },
  {
   "cell_type": "code",
   "execution_count": null,
   "outputs": [],
   "source": [
    "# Set first two rows as the headers\n",
    "stocks = pd.read_csv(\"stocksYT.csv\", header=[0,1])\n",
    "stocks"
   ],
   "metadata": {
    "collapsed": false,
    "pycharm": {
     "name": "#%%\n",
     "is_executing": true
    }
   }
  },
  {
   "cell_type": "code",
   "execution_count": null,
   "outputs": [],
   "source": [
    "# Set first column as the index of the data frame\n",
    "stocks = pd.read_csv(\"stocksYT.csv\", header=[0,1], index_col=[0])\n",
    "stocks"
   ],
   "metadata": {
    "collapsed": false,
    "pycharm": {
     "name": "#%%\n",
     "is_executing": true
    }
   }
  },
  {
   "cell_type": "markdown",
   "source": [
    "![](/Users/jooyoungoh/Pictures/Screenshots/column-indexing.png)"
   ],
   "metadata": {
    "collapsed": false,
    "pycharm": {
     "name": "#%% md\n"
    }
   }
  },
  {
   "cell_type": "code",
   "execution_count": null,
   "outputs": [],
   "source": [
    "# Parse the `Date` column into datetime objects\n",
    "stocks = pd.read_csv(\"stocksYT.csv\", header=[0,1], index_col=[0], parse_dates=[0])\n",
    "stocks"
   ],
   "metadata": {
    "collapsed": false,
    "pycharm": {
     "name": "#%%\n",
     "is_executing": true
    }
   }
  },
  {
   "cell_type": "code",
   "execution_count": null,
   "outputs": [],
   "source": [
    "# Print column names\n",
    "stocks.columns"
   ],
   "metadata": {
    "collapsed": false,
    "pycharm": {
     "name": "#%%\n",
     "is_executing": true
    }
   }
  },
  {
   "cell_type": "code",
   "execution_count": null,
   "outputs": [],
   "source": [
    "# Convert the multi-index into one tuple\n",
    "stocks.columns = stocks.columns.to_flat_index()\n",
    "stocks.columns"
   ],
   "metadata": {
    "collapsed": false,
    "pycharm": {
     "name": "#%%\n",
     "is_executing": true
    }
   }
  },
  {
   "cell_type": "code",
   "execution_count": null,
   "outputs": [],
   "source": [
    "stocks"
   ],
   "metadata": {
    "collapsed": false,
    "pycharm": {
     "name": "#%%\n",
     "is_executing": true
    }
   }
  },
  {
   "cell_type": "markdown",
   "source": [
    "<img src=\"/Users/jooyoungoh/Pictures/Screenshots/Screenshot 2024-06-01 at 4.49.45 PM.png\"/>"
   ],
   "metadata": {
    "collapsed": false,
    "pycharm": {
     "name": "#%% md\n"
    }
   }
  },
  {
   "cell_type": "code",
   "execution_count": null,
   "outputs": [],
   "source": [
    "stocks.columns = pd.MultiIndex.from_tuples(stocks.columns)\n",
    "stocks"
   ],
   "metadata": {
    "collapsed": false,
    "pycharm": {
     "name": "#%%\n",
     "is_executing": true
    }
   }
  },
  {
   "cell_type": "markdown",
   "source": [
    "# 2. Describing the Data"
   ],
   "metadata": {
    "collapsed": false,
    "pycharm": {
     "name": "#%% md\n"
    }
   }
  },
  {
   "cell_type": "code",
   "execution_count": null,
   "outputs": [],
   "source": [
    "stocks.columns"
   ],
   "metadata": {
    "collapsed": false,
    "pycharm": {
     "name": "#%%\n",
     "is_executing": true
    }
   }
  },
  {
   "cell_type": "code",
   "execution_count": null,
   "outputs": [],
   "source": [
    "# Return the count, mean, stdev, etc.\n",
    "stocks.describe()"
   ],
   "metadata": {
    "collapsed": false,
    "pycharm": {
     "name": "#%%\n",
     "is_executing": true
    }
   }
  },
  {
   "cell_type": "code",
   "execution_count": null,
   "outputs": [],
   "source": [
    "# Return specified rows and columns of a data frame\n",
    "stocks.loc[:,\"Close\"]"
   ],
   "metadata": {
    "collapsed": false,
    "pycharm": {
     "name": "#%%\n",
     "is_executing": true
    }
   }
  },
  {
   "cell_type": "code",
   "execution_count": null,
   "outputs": [],
   "source": [
    "# We create an independent copy of the \"Close\" column using close().\n",
    "# While it might seem suffice to assign it to 'close', it'd be just a view of the original data set.\n",
    "close = stocks.loc[:, \"Close\"].copy()\n",
    "close"
   ],
   "metadata": {
    "collapsed": false,
    "pycharm": {
     "name": "#%%\n",
     "is_executing": true
    }
   }
  },
  {
   "cell_type": "code",
   "execution_count": null,
   "outputs": [],
   "source": [
    "# Configure Jupyter to display plots inline\n",
    "%matplotlib inline\n",
    "import matplotlib.pyplot as plt\n",
    "import seaborn as sns\n",
    "sns.set_theme()"
   ],
   "metadata": {
    "collapsed": false,
    "pycharm": {
     "name": "#%%\n",
     "is_executing": true
    }
   }
  },
  {
   "cell_type": "code",
   "execution_count": null,
   "outputs": [],
   "source": [
    "close.plot(figsize=(15,8), fontsize=12)\n",
    "plt.legend(fontsize=12)\n",
    "plt.show"
   ],
   "metadata": {
    "collapsed": false,
    "pycharm": {
     "name": "#%%\n",
     "is_executing": true
    }
   }
  },
  {
   "cell_type": "code",
   "execution_count": null,
   "outputs": [],
   "source": [
    "# We will now normalize the data for comparison\n",
    "close.iloc[0,0]"
   ],
   "metadata": {
    "collapsed": false,
    "pycharm": {
     "name": "#%%\n",
     "is_executing": true
    }
   }
  },
  {
   "cell_type": "code",
   "execution_count": null,
   "outputs": [],
   "source": [
    "close.AAPL"
   ],
   "metadata": {
    "collapsed": false,
    "pycharm": {
     "name": "#%%\n",
     "is_executing": true
    }
   }
  },
  {
   "cell_type": "code",
   "execution_count": null,
   "outputs": [],
   "source": [
    "close.AAPL.div(close.iloc[0,0])"
   ],
   "metadata": {
    "collapsed": false,
    "pycharm": {
     "name": "#%%\n",
     "is_executing": true
    }
   }
  },
  {
   "cell_type": "code",
   "execution_count": null,
   "outputs": [],
   "source": [
    "close.AAPL.div(close.iloc[0,0]).mul(100)"
   ],
   "metadata": {
    "collapsed": false,
    "pycharm": {
     "name": "#%%\n",
     "is_executing": true
    }
   }
  },
  {
   "cell_type": "code",
   "execution_count": null,
   "outputs": [],
   "source": [
    "close.iloc[0]"
   ],
   "metadata": {
    "collapsed": false,
    "pycharm": {
     "name": "#%%\n",
     "is_executing": true
    }
   }
  },
  {
   "cell_type": "code",
   "execution_count": null,
   "outputs": [],
   "source": [
    "close.div(close.iloc[0]).mul(100)"
   ],
   "metadata": {
    "collapsed": false,
    "pycharm": {
     "name": "#%%\n",
     "is_executing": true
    }
   }
  },
  {
   "cell_type": "code",
   "execution_count": null,
   "outputs": [],
   "source": [
    "normClose = close.div(close.iloc[0]).mul(100)\n",
    "normClose"
   ],
   "metadata": {
    "collapsed": false,
    "pycharm": {
     "name": "#%%\n",
     "is_executing": true
    }
   }
  },
  {
   "cell_type": "code",
   "execution_count": null,
   "outputs": [],
   "source": [
    "normClose.plot(figsize=(15,8), fontsize=12)\n",
    "plt.legend(fontsize=12)\n",
    "plt.show"
   ],
   "metadata": {
    "collapsed": false,
    "pycharm": {
     "name": "#%%\n",
     "is_executing": true
    }
   }
  },
  {
   "cell_type": "markdown",
   "source": [
    "# 3. Working with Data"
   ],
   "metadata": {
    "collapsed": false,
    "pycharm": {
     "name": "#%% md\n"
    }
   }
  },
  {
   "cell_type": "code",
   "execution_count": null,
   "outputs": [],
   "source": [
    "# Create a data frame containing the close of AAPL\n",
    "aapl = close.AAPL.copy().to_frame()\n",
    "aapl"
   ],
   "metadata": {
    "collapsed": false,
    "pycharm": {
     "name": "#%%\n",
     "is_executing": true
    }
   }
  },
  {
   "cell_type": "code",
   "execution_count": null,
   "outputs": [],
   "source": [
    "# Let's say we need to calculate the increase and decrease from the previous day.\n",
    "# One of the things we need to do before that is to learn the `shift` function,\n",
    "# which shifts index by desired number of periods with an optional time `freq`.\n",
    "aapl.shift() # appl.shift(preiod=1)"
   ],
   "metadata": {
    "collapsed": false,
    "pycharm": {
     "name": "#%%\n",
     "is_executing": true
    }
   }
  },
  {
   "cell_type": "code",
   "execution_count": null,
   "outputs": [],
   "source": [
    "aapl[\"lag1\"]=aapl.shift()\n",
    "aapl"
   ],
   "metadata": {
    "collapsed": false,
    "pycharm": {
     "name": "#%%\n",
     "is_executing": true
    }
   }
  },
  {
   "cell_type": "code",
   "execution_count": null,
   "outputs": [],
   "source": [
    "# Subtract `aapl.AAPL` by `aapl.lag1`\n",
    "aapl[\"Diff\"] = aapl.AAPL.sub(aapl.lag1)\n",
    "aapl"
   ],
   "metadata": {
    "collapsed": false,
    "pycharm": {
     "name": "#%%\n",
     "is_executing": true
    }
   }
  },
  {
   "cell_type": "code",
   "execution_count": null,
   "outputs": [],
   "source": [
    "aapl[\"% Change\"] = aapl.AAPL.div(aapl.lag1)\n",
    "aapl"
   ],
   "metadata": {
    "collapsed": false,
    "pycharm": {
     "name": "#%%\n",
     "is_executing": true
    }
   }
  },
  {
   "cell_type": "code",
   "execution_count": null,
   "outputs": [],
   "source": [
    "aapl[\"Diff2\"] = aapl.AAPL.diff(periods=1)\n",
    "aapl"
   ],
   "metadata": {
    "collapsed": false,
    "pycharm": {
     "name": "#%%\n",
     "is_executing": true
    }
   }
  },
  {
   "cell_type": "code",
   "execution_count": null,
   "outputs": [],
   "source": [
    "aapl[\"% Change 2\"] = aapl.AAPL.pct_change(periods=1).mul(100)\n",
    "aapl"
   ],
   "metadata": {
    "collapsed": false,
    "pycharm": {
     "name": "#%%\n",
     "is_executing": true
    }
   }
  },
  {
   "cell_type": "code",
   "execution_count": null,
   "outputs": [],
   "source": [
    "aapl[\"% Change\"] = aapl.AAPL.div(aapl.lag1).sub(1).mul(100)\n",
    "aapl"
   ],
   "metadata": {
    "collapsed": false,
    "pycharm": {
     "name": "#%%\n",
     "is_executing": true
    }
   }
  },
  {
   "cell_type": "code",
   "execution_count": null,
   "outputs": [],
   "source": [
    "del aapl[\"lag1\"]\n",
    "del aapl[\"Diff\"]\n",
    "del aapl[\"Diff2\"]\n",
    "del aapl[\"% Change\"]"
   ],
   "metadata": {
    "collapsed": false,
    "pycharm": {
     "name": "#%%\n",
     "is_executing": true
    }
   }
  },
  {
   "cell_type": "code",
   "execution_count": null,
   "outputs": [],
   "source": [
    "aapl"
   ],
   "metadata": {
    "collapsed": false,
    "pycharm": {
     "name": "#%%\n",
     "is_executing": true
    }
   }
  },
  {
   "cell_type": "code",
   "execution_count": null,
   "outputs": [],
   "source": [
    "aapl.rename(columns = {\"% Change 2\": \"Change\"}, inplace = True)\n",
    "aapl"
   ],
   "metadata": {
    "collapsed": false,
    "pycharm": {
     "name": "#%%\n",
     "is_executing": true
    }
   }
  },
  {
   "cell_type": "code",
   "execution_count": null,
   "outputs": [],
   "source": [
    "# Convert the data into monthly data according to the last day of the month\n",
    "aapl.AAPL.resample(\"M\").last()"
   ],
   "metadata": {
    "collapsed": false,
    "pycharm": {
     "name": "#%%\n",
     "is_executing": true
    }
   }
  },
  {
   "cell_type": "code",
   "execution_count": null,
   "outputs": [],
   "source": [
    "# Convert the data into monthly data according to the last business day of the month\n",
    "aapl.AAPL.resample(\"BM\").last().pct_change(periods=1).mul(100)"
   ],
   "metadata": {
    "collapsed": false,
    "pycharm": {
     "name": "#%%\n",
     "is_executing": true
    }
   }
  },
  {
   "cell_type": "markdown",
   "source": [
    "# 4. The Mean, Variance, and Standard Deviation of Data"
   ],
   "metadata": {
    "collapsed": false,
    "pycharm": {
     "name": "#%% md\n"
    }
   }
  },
  {
   "cell_type": "code",
   "execution_count": null,
   "outputs": [],
   "source": [
    "aapl"
   ],
   "metadata": {
    "collapsed": false,
    "pycharm": {
     "name": "#%%\n",
     "is_executing": true
    }
   }
  },
  {
   "cell_type": "code",
   "execution_count": null,
   "outputs": [],
   "source": [
    "del aapl[\"Change\"]"
   ],
   "metadata": {
    "collapsed": false,
    "pycharm": {
     "name": "#%%\n",
     "is_executing": true
    }
   }
  },
  {
   "cell_type": "code",
   "execution_count": null,
   "outputs": [],
   "source": [
    "aapl"
   ],
   "metadata": {
    "collapsed": false,
    "pycharm": {
     "name": "#%%\n",
     "is_executing": true
    }
   }
  },
  {
   "cell_type": "code",
   "execution_count": null,
   "outputs": [],
   "source": [
    "ret = aapl.pct_change().dropna()\n",
    "ret"
   ],
   "metadata": {
    "collapsed": false,
    "pycharm": {
     "name": "#%%\n",
     "is_executing": true
    }
   }
  },
  {
   "cell_type": "code",
   "execution_count": null,
   "outputs": [],
   "source": [
    "ret.info()"
   ],
   "metadata": {
    "collapsed": false,
    "pycharm": {
     "name": "#%%\n",
     "is_executing": true
    }
   }
  },
  {
   "cell_type": "code",
   "execution_count": null,
   "outputs": [],
   "source": [
    "# Plotting a histogram for the rate of return\n",
    "ret.plot(kind=\"hist\",figsize=(12, 8), bins=100)\n",
    "plt.show()"
   ],
   "metadata": {
    "collapsed": false,
    "pycharm": {
     "name": "#%%\n",
     "is_executing": true
    }
   }
  },
  {
   "cell_type": "code",
   "execution_count": null,
   "outputs": [],
   "source": [
    "# Calculating the mean return\n",
    "mean_daily_ret = ret.mean()\n",
    "mean_daily_ret"
   ],
   "metadata": {
    "collapsed": false,
    "pycharm": {
     "name": "#%%\n",
     "is_executing": true
    }
   }
  },
  {
   "cell_type": "code",
   "execution_count": null,
   "outputs": [],
   "source": [
    "var_daily_ret = ret.var()\n",
    "var_daily_ret"
   ],
   "metadata": {
    "collapsed": false,
    "pycharm": {
     "name": "#%%\n",
     "is_executing": true
    }
   }
  },
  {
   "cell_type": "code",
   "execution_count": null,
   "outputs": [],
   "source": [
    "std_daily_ret = np.sqrt(var_daily_ret)\n",
    "std_daily_ret"
   ],
   "metadata": {
    "collapsed": false,
    "pycharm": {
     "name": "#%%\n",
     "is_executing": true
    }
   }
  },
  {
   "cell_type": "code",
   "execution_count": null,
   "outputs": [],
   "source": [
    "ret.std()"
   ],
   "metadata": {
    "collapsed": false,
    "pycharm": {
     "name": "#%%\n",
     "is_executing": true
    }
   }
  },
  {
   "cell_type": "code",
   "execution_count": null,
   "outputs": [],
   "source": [
    "mean_annual_ret = mean_daily_ret * 252\n",
    "mean_annual_ret"
   ],
   "metadata": {
    "collapsed": false,
    "pycharm": {
     "name": "#%%\n",
     "is_executing": true
    }
   }
  },
  {
   "cell_type": "code",
   "execution_count": null,
   "outputs": [],
   "source": [
    "var_annual_ret = var_daily_ret * 252\n",
    "var_annual_ret"
   ],
   "metadata": {
    "collapsed": false,
    "pycharm": {
     "name": "#%%\n",
     "is_executing": true
    }
   }
  },
  {
   "cell_type": "code",
   "execution_count": null,
   "outputs": [],
   "source": [
    "std_annual_ret = np.sqrt(var_annual_ret)\n",
    "std_annual_ret"
   ],
   "metadata": {
    "collapsed": false,
    "pycharm": {
     "name": "#%%\n",
     "is_executing": true
    }
   }
  },
  {
   "cell_type": "code",
   "execution_count": null,
   "outputs": [],
   "source": [
    "ret.std() * np.sqrt(252)"
   ],
   "metadata": {
    "collapsed": false,
    "pycharm": {
     "name": "#%%\n",
     "is_executing": true
    }
   }
  },
  {
   "cell_type": "code",
   "execution_count": null,
   "outputs": [],
   "source": [
    "# Download stock data\n",
    "ticker = [\"SPY\", \"AAPL\", \"KO\", \"IBM\", \"DIS\", \"MSFT\"]\n",
    "stocks = yf.download(ticker, start='2010-01-01', end='2021-01-01')\n",
    "\n",
    "# Select and normalize close columns\n",
    "close = stocks.loc[:, \"Close\"].copy()\n",
    "normClose = close.div(close.iloc[0]).mul(100)\n",
    "\n",
    "normClose"
   ],
   "metadata": {
    "collapsed": false,
    "pycharm": {
     "name": "#%%\n",
     "is_executing": true
    }
   }
  },
  {
   "cell_type": "code",
   "execution_count": null,
   "outputs": [],
   "source": [
    "# Plot normalized data\n",
    "normClose.plot(figsize=(15, 8), fontsize=12)\n",
    "plt.legend(fontsize=12)\n",
    "plt.show()"
   ],
   "metadata": {
    "collapsed": false,
    "pycharm": {
     "name": "#%%\n",
     "is_executing": true
    }
   }
  },
  {
   "cell_type": "code",
   "execution_count": null,
   "outputs": [],
   "source": [
    "ret = close.pct_change().dropna()\n",
    "ret.head()"
   ],
   "metadata": {
    "collapsed": false,
    "pycharm": {
     "name": "#%%\n",
     "is_executing": true
    }
   }
  },
  {
   "cell_type": "code",
   "execution_count": null,
   "outputs": [],
   "source": [
    "ret.describe()"
   ],
   "metadata": {
    "collapsed": false,
    "pycharm": {
     "name": "#%%\n",
     "is_executing": true
    }
   }
  },
  {
   "cell_type": "code",
   "execution_count": null,
   "outputs": [],
   "source": [
    "ret.describe().T"
   ],
   "metadata": {
    "collapsed": false,
    "pycharm": {
     "name": "#%%\n",
     "is_executing": true
    }
   }
  },
  {
   "cell_type": "code",
   "execution_count": null,
   "outputs": [],
   "source": [
    "summary = ret.describe().T.loc[:, [\"mean\", \"std\"]]\n",
    "summary"
   ],
   "metadata": {
    "collapsed": false,
    "pycharm": {
     "name": "#%%\n",
     "is_executing": true
    }
   }
  },
  {
   "cell_type": "code",
   "execution_count": null,
   "outputs": [],
   "source": [
    "summary[\"mean\"] = summary[\"mean\"] * 252\n",
    "summary[\"std\"] = summary[\"std\"] * np.sqrt(252)\n",
    "summary"
   ],
   "metadata": {
    "collapsed": false,
    "pycharm": {
     "name": "#%%\n",
     "is_executing": true
    }
   }
  },
  {
   "cell_type": "code",
   "execution_count": null,
   "outputs": [],
   "source": [
    "summary.plot.scatter(x=\"std\", y=\"mean\", figsize=[12,8], s=50, fontsize=15)\n",
    "for i in summary.index:\n",
    "    plt.annotate(i, xy=[summary.loc[i,\"std\"]+0.002, summary.loc[i,\"mean\"]+0.002], size=15)\n",
    "plt.xlabel(\"Annual Risk (std)\", fontsize = 15)\n",
    "plt.ylabel(\"Annual Return (mean)\", fontsize = 15)\n",
    "plt.title(\"Annual Risk vs. Return\", fontsize = 25)\n",
    "plt.show()"
   ],
   "metadata": {
    "collapsed": false,
    "pycharm": {
     "name": "#%%\n",
     "is_executing": true
    }
   }
  },
  {
   "cell_type": "markdown",
   "source": [
    "# 5. Correlation and Covariance"
   ],
   "metadata": {
    "collapsed": false,
    "pycharm": {
     "name": "#%% md\n"
    }
   }
  },
  {
   "cell_type": "code",
   "execution_count": null,
   "outputs": [],
   "source": [
    "ret"
   ],
   "metadata": {
    "collapsed": false,
    "pycharm": {
     "name": "#%%\n",
     "is_executing": true
    }
   }
  },
  {
   "cell_type": "code",
   "execution_count": null,
   "outputs": [],
   "source": [
    "ret.cov()"
   ],
   "metadata": {
    "collapsed": false,
    "pycharm": {
     "name": "#%%\n",
     "is_executing": true
    }
   }
  },
  {
   "cell_type": "code",
   "execution_count": null,
   "outputs": [],
   "source": [
    "ret.corr()"
   ],
   "metadata": {
    "collapsed": false,
    "pycharm": {
     "name": "#%%\n",
     "is_executing": true
    }
   }
  },
  {
   "cell_type": "code",
   "execution_count": null,
   "outputs": [],
   "source": [
    "import seaborn as sns"
   ],
   "metadata": {
    "collapsed": false,
    "pycharm": {
     "name": "#%%\n",
     "is_executing": true
    }
   }
  },
  {
   "cell_type": "code",
   "execution_count": null,
   "outputs": [],
   "source": [
    "plt.figure(figsize=(12, 8))\n",
    "sns.set(font_scale=1.4)\n",
    "sns.heatmap(ret.corr(), cmap=\"Reds_r\", annot=True, annot_kws={\"size\":15}, vmax=0.6)\n",
    "plt.show()"
   ],
   "metadata": {
    "collapsed": false,
    "pycharm": {
     "name": "#%%\n",
     "is_executing": true
    }
   }
  },
  {
   "cell_type": "markdown",
   "source": [
    "# Challenge 1\n",
    "### Download 20 random stocks and:\n",
    "### 1. Calculate risk and reward potential\n",
    "### 2. Comopare the covariance and correlation\n",
    "### 3. Find the best 5 to invest in in the long term"
   ],
   "metadata": {
    "collapsed": false,
    "pycharm": {
     "name": "#%% md\n"
    }
   }
  },
  {
   "cell_type": "code",
   "execution_count": null,
   "outputs": [],
   "source": [
    "import random\n",
    "import yfinance as yf\n",
    "import pandas as pd\n",
    "\n",
    "# Sample list of stock tickers\n",
    "all_tickers = [\n",
    "    \"AAPL\", \"MSFT\", \"GOOGL\", \"AMZN\", \"META\", \"TSLA\", \"BRK-B\", \"JNJ\", \"V\", \"WMT\",\n",
    "    \"JPM\", \"PG\", \"MA\", \"NVDA\", \"HD\", \"DIS\", \"PYPL\", \"BAC\", \"VZ\", \"NFLX\",\n",
    "    \"ADBE\", \"CMCSA\", \"INTC\", \"PFE\", \"KO\", \"MRK\", \"PEP\", \"T\", \"ABBV\", \"CSCO\",\n",
    "    \"XOM\", \"ABT\", \"CRM\", \"NKE\", \"LLY\", \"ORCL\", \"MCD\", \"NEE\", \"TMO\", \"QCOM\",\n",
    "    \"ACN\", \"MDT\", \"DHR\", \"TXN\", \"UNH\", \"LIN\", \"UNP\", \"HON\"\n",
    "]\n",
    "\n",
    "# Ensure the list has more than 20 tickers for randomness\n",
    "assert len(all_tickers) > 20, \"List of all tickers must be greater than 20\"\n",
    "\n",
    "# Check if ticker is valid\n",
    "def ticker_is_valid(ticker):\n",
    "    try:\n",
    "        data = yf.download(ticker, start='2010-01-01', end='2024-01-01', progress=False)\n",
    "        return not data.empty\n",
    "    except:\n",
    "        return False\n",
    "\n",
    "valid_tickers = [ticker for ticker in all_tickers if ticker_is_valid(ticker)]\n",
    "print(f\"Number of valid tickers: {len(valid_tickers)}\")\n",
    "\n",
    "# Randomly select 20 tickers\n",
    "selected_tickers = random.sample(valid_tickers, 20)\n",
    "print(\"Selected Tickers:\", selected_tickers)\n",
    "\n",
    "# Download the stock data for the selected tickers\n",
    "stocks = yf.download(selected_tickers, start='2010-01-01', end='2024-01-01')\n",
    "stocks"
   ],
   "metadata": {
    "collapsed": false,
    "pycharm": {
     "name": "#%%\n",
     "is_executing": true
    }
   }
  },
  {
   "cell_type": "code",
   "execution_count": null,
   "outputs": [],
   "source": [
    "close = stocks.loc[:, \"Close\"].copy()\n",
    "normClose = close.div(close.iloc[0]).mul(100)\n",
    "normClose"
   ],
   "metadata": {
    "collapsed": false,
    "pycharm": {
     "name": "#%%\n",
     "is_executing": true
    }
   }
  },
  {
   "cell_type": "code",
   "execution_count": null,
   "outputs": [],
   "source": [
    "# Plot normalized data\n",
    "normClose.plot(figsize=(15, 8), fontsize=12)\n",
    "plt.legend(fontsize=12)\n",
    "plt.show()"
   ],
   "metadata": {
    "collapsed": false,
    "pycharm": {
     "name": "#%%\n",
     "is_executing": true
    }
   }
  },
  {
   "cell_type": "code",
   "execution_count": null,
   "outputs": [],
   "source": [
    "# Initiate ret\n",
    "ret = close.pct_change().dropna()\n",
    "ret.describe()"
   ],
   "metadata": {
    "collapsed": false,
    "pycharm": {
     "name": "#%%\n",
     "is_executing": true
    }
   }
  },
  {
   "cell_type": "code",
   "execution_count": null,
   "outputs": [],
   "source": [
    "# Collect mean and standard deviation\n",
    "summary = ret.describe().T.loc[:,[\"mean\",\"std\"]]\n",
    "summary"
   ],
   "metadata": {
    "collapsed": false,
    "pycharm": {
     "name": "#%%\n",
     "is_executing": true
    }
   }
  },
  {
   "cell_type": "code",
   "execution_count": null,
   "outputs": [],
   "source": [
    "summary[\"annual_mean\"] = summary[\"mean\"] * 252\n",
    "summary[\"annual_std\"] = summary[\"std\"] * np.sqrt(252)\n",
    "\n",
    "summary.plot.scatter(x=\"annual_std\", y=\"annual_mean\", figsize=[12,8], s=50, fontsize=15)\n",
    "for i in summary.index:\n",
    "    plt.annotate(i, xy=[summary.loc[i,\"annual_std\"]+0.002, summary.loc[i,\"annual_mean\"]+0.002], size=15)\n",
    "plt.xlabel(\"Annual Risk (std)\", fontsize = 15)\n",
    "plt.ylabel(\"Annual Return (mean)\", fontsize = 15)\n",
    "plt.title(\"Annual Risk vs. Return\", fontsize = 25)\n",
    "plt.show()"
   ],
   "metadata": {
    "collapsed": false,
    "pycharm": {
     "name": "#%%\n",
     "is_executing": true
    }
   }
  },
  {
   "cell_type": "code",
   "execution_count": null,
   "outputs": [],
   "source": [
    "import seaborn as sns\n",
    "\n",
    "plt.figure(figsize=(12, 8))\n",
    "sns.set(font_scale=1.4)\n",
    "sns.heatmap(ret.corr(), cmap=\"Reds_r\", annot=True, annot_kws={\"size\":8}, vmax=0.6)\n",
    "plt.show()"
   ],
   "metadata": {
    "collapsed": false,
    "pycharm": {
     "name": "#%%\n",
     "is_executing": true
    }
   }
  },
  {
   "cell_type": "code",
   "execution_count": null,
   "outputs": [],
   "source": [
    "summary['ret_risk_index'] = summary.annual_mean.div(summary.annual_std)\n",
    "summary = summary.sort_values(by=['ret_risk_index'], ascending=False)\n",
    "summary"
   ],
   "metadata": {
    "collapsed": false,
    "pycharm": {
     "name": "#%%\n",
     "is_executing": true
    }
   }
  },
  {
   "cell_type": "markdown",
   "source": [
    "### Determining which stocks to invest in:\n",
    "Risk-Return Tradeoff: The plot you've created shows the annualized risk (standard deviation) versus the annualized return (mean) for different stocks. In general, investors seek a balance between risk and return. You can use the following approaches to make investment decisions:\n",
    "* Efficient Frontier: Identify stocks that lie on the efficient frontier, which offers the highest expected return for a given level of risk.\n",
    "* Sharpe Ratio: Calculate the Sharpe ratio for each stock to measure the return per unit of risk. The ratio is defined as: (Annual Return of the Stock - Risk-Free Rate) / (Annual Risk)\n",
    "\n",
    "Diversification\n",
    "* Portfolio Diversification: Diversify your investments across multiple stocks to reduce unsystematic risk. You can create a portfolio of stocks that have low correlations with each other to achieve diversification benefits.\n",
    "\n",
    "\n",
    "The Sharpe Ratio does take into account the absolute value of the return, but it does so in a way that adjusts for risk. It measures the excess return (return above the risk-free rate) per unit of risk (standard deviation). However, it does not explicitly prioritize the magnitude of the return independently of risk.\n",
    "\n",
    "The risk-free rate is typically derived from the yield on government securities, such as U.S. Treasury bills (T-bills), notes, or bonds, which are considered virtually free of credit risk. In practice, the 3-month U.S. Treasury bill yield is often used as a proxy for the risk-free rate.\n",
    "\n",
    "To account for both the magnitude of return and the return-risk ratio, you might consider additional or complementary metrics, such as the Sortino Ratio."
   ],
   "metadata": {
    "collapsed": false,
    "pycharm": {
     "name": "#%% md\n"
    }
   }
  },
  {
   "cell_type": "code",
   "execution_count": null,
   "outputs": [],
   "source": [
    "import numpy as np\n",
    "\n",
    "# Assume a risk-free rate (e.g., 3-month Treasury bill rate)\n",
    "risk_free_rate = 0.02\n",
    "\n",
    "# Calculate the Sharpe Ratio\n",
    "summary['sharpe_ratio'] = (summary['annual_mean'] - risk_free_rate) / summary['annual_std']\n",
    "\n",
    "# Display the dataframe with Sharpe Ratio\n",
    "summary\n",
    "\n",
    "# Sort stocks by Sharpe Ratio in descending order\n",
    "summary_sorted = summary.sort_values(by=\"sharpe_ratio\", ascending=False)\n",
    "\n",
    "# Locate Top 5 Stocks\n",
    "# Display the top stocks based on Sharpe Ratio\n",
    "print(\"Top Stocks based on Sharpe Ratio:\")\n",
    "for ticker in summary_sorted.head().index:\n",
    "    print(ticker)"
   ],
   "metadata": {
    "collapsed": false,
    "pycharm": {
     "name": "#%%\n",
     "is_executing": true
    }
   }
  },
  {
   "cell_type": "markdown",
   "source": [
    "# 6. Simple Return and Log Return\n",
    "Simple return, also known as arithmetic return, measures the percentage change in the price of an asset over a specific period. It is calculated as the difference between the ending price and the starting price, divided by the starting price. Simple return is a straightforward way to assess the performance of an investment over a particular period.\n",
    "\n",
    "Log return, also known as logarithmic return or continuously compounded return, measures the logarithm of the ratio of the ending price to the starting price. Log returns are additive over time, which simplifies the calculation of returns over multiple periods. This property makes log returns particularly useful in financial modeling and time series analysis."
   ],
   "metadata": {
    "collapsed": false,
    "pycharm": {
     "name": "#%% md\n"
    }
   }
  },
  {
   "cell_type": "code",
   "execution_count": null,
   "outputs": [],
   "source": [
    "# Create a random dataframe\n",
    "df = pd.DataFrame(index=[2016, 2017, 2018], data=[100, 50, 95], columns=[\"Price\"])\n",
    "df"
   ],
   "metadata": {
    "collapsed": false,
    "pycharm": {
     "name": "#%%\n",
     "is_executing": true
    }
   }
  },
  {
   "cell_type": "code",
   "execution_count": null,
   "outputs": [],
   "source": [
    "# Simple Returns\n",
    "simpleReturns = df.pct_change().dropna()\n",
    "simpleReturns"
   ],
   "metadata": {
    "collapsed": false,
    "pycharm": {
     "name": "#%%\n",
     "is_executing": true
    }
   }
  },
  {
   "cell_type": "code",
   "execution_count": null,
   "outputs": [],
   "source": [
    "# Find the mean simple return\n",
    "meanRet = simpleReturns.mean()\n",
    "meanRet"
   ],
   "metadata": {
    "collapsed": false,
    "pycharm": {
     "name": "#%%\n",
     "is_executing": true
    }
   }
  },
  {
   "cell_type": "code",
   "execution_count": null,
   "outputs": [],
   "source": [
    "# Since the mean simple return is 0.2, the following should equal 95\n",
    "df.loc[2016, \"Price\"] * (1 + meanRet) ** 2\n",
    "\n",
    "# However, the code returns 144, which is not equal to 95.\n",
    "# From This result, we learn that simple or arithmetic return is not cumulative."
   ],
   "metadata": {
    "collapsed": false,
    "pycharm": {
     "name": "#%%\n",
     "is_executing": true
    }
   }
  },
  {
   "cell_type": "code",
   "execution_count": null,
   "outputs": [],
   "source": [
    "# This is where log return comes into perspective\n",
    "logReturns = np.log(df / df.shift()).dropna()\n",
    "logReturns"
   ],
   "metadata": {
    "collapsed": false,
    "pycharm": {
     "name": "#%%\n",
     "is_executing": true
    }
   }
  },
  {
   "cell_type": "code",
   "execution_count": null,
   "outputs": [],
   "source": [
    "meanLogRet = logReturns.mean()\n",
    "meanLogRet"
   ],
   "metadata": {
    "collapsed": false,
    "pycharm": {
     "name": "#%%\n",
     "is_executing": true
    }
   }
  },
  {
   "cell_type": "code",
   "execution_count": null,
   "outputs": [],
   "source": [
    "100 ** meanLogRet"
   ],
   "metadata": {
    "collapsed": false,
    "pycharm": {
     "name": "#%%\n",
     "is_executing": true
    }
   }
  },
  {
   "cell_type": "code",
   "execution_count": null,
   "outputs": [],
   "source": [
    "# From the following computation, we learn that log return is cumulative\n",
    "df.loc[2016, \"Price\"] * np.exp(meanLogRet * 2)"
   ],
   "metadata": {
    "collapsed": false,
    "pycharm": {
     "name": "#%%\n",
     "is_executing": true
    }
   }
  },
  {
   "cell_type": "markdown",
   "source": [
    "# 7. Rolling Functions\n",
    "To roll a function means to apply a calculation across a moving or sliding window of data points within a\n",
    "dataset. This involves taking a fixed-size subset (window) of consecutive data points, performing a\n",
    "specified function on this subset, and then moving the window one data point forward and repeating.\n",
    "\n",
    "Rolling a dataset offers several benefits over applying functions to individual data points, especially when dealing with time series data.\n",
    "\n",
    "1. Smoothing Data\n",
    "* Reduced Noise: Rolling calculations, like rolling means, help smooth out short-term fluctuations and random noise in the data. This makes it easier to identify long-term trends and underlying patterns.\n",
    "* Signal Clarity: By averaging or summing over a window, the true signal in the data becomes clearer, making it easier to analyze and interpret.\n",
    "\n",
    "2. Trend Detection\n",
    "* Trend Analysis: Rolling functions are excellent for detecting trends over time. For example, a rolling mean can highlight the overall direction of a time series, helping to identify upward or downward trends.\n",
    "* Cyclic Patterns: Rolling calculations can reveal cyclic patterns, such as seasonal variations or business cycles, which might not be apparent from individual data points.\n",
    "\n",
    "3. Anomaly Detection\n",
    "- Outlier Detection: By comparing rolling statistics (like rolling standard deviation) to individual data points, anomalies or outliers can be identified more effectively. THis is useful in quality control, finance, and other fields where anomalies are significant.\n",
    "- Behavioral Insights: Rolling functions cna help detect unusual behavior over time, providing insights into potential issues or areas needing attention.\n",
    "\n",
    "4. Contextual Analysis\n",
    "* Contextual Understanding: Rolling functions provide a context for each data point by considering its neighboring values. This contextual analysis is crucial for understanding how data points relate to each other over time.\n",
    "* Better Decision Making: By looking at a window of data, rather than isolated points, decisions can be made based on a broader understanding of the data's behavior.\n",
    "\n",
    "5. Data Aggregation\n",
    "* Aggregated Insights: Rolling calculations aggregate data over a specified window, providing insights that individual data points cannot. For instance, rolling sums can show cumulative sales over a perfiod, offering a better view of overall performance.\n",
    "* Simplified Data: Aggregating data through rolling functions simplifies complex datasets, making them easier to analyze and visualize.\n",
    "\n",
    "6. Robustness to Variability\n",
    "* Handling Volatility: In volatile datasets, such as stock prices, rolling functions help manage variability by focusing on a window of data rather than isolated points. This results in more stable and reliable insights.\n",
    "* Adaptability: Rolling functions adapt to changes in data patterns, making them userful in dynamic environments where data characteristics may shift over time."
   ],
   "metadata": {
    "collapsed": false,
    "pycharm": {
     "name": "#%% md\n"
    }
   }
  },
  {
   "cell_type": "code",
   "execution_count": null,
   "outputs": [],
   "source": [
    "SPY = yf.download(\"SPY\")"
   ],
   "metadata": {
    "collapsed": false,
    "pycharm": {
     "name": "#%%\n",
     "is_executing": true
    }
   }
  },
  {
   "cell_type": "code",
   "execution_count": null,
   "outputs": [],
   "source": [
    "spy = SPY.Close.to_frame()\n",
    "spy"
   ],
   "metadata": {
    "collapsed": false,
    "pycharm": {
     "name": "#%%\n",
     "is_executing": true
    }
   }
  },
  {
   "cell_type": "code",
   "execution_count": null,
   "outputs": [],
   "source": [
    "spy.plot(figsize=(12,8), fontsize=15)\n",
    "plt.legend(loc=\"upper left\", fontsize=15)\n",
    "plt.show"
   ],
   "metadata": {
    "collapsed": false,
    "pycharm": {
     "name": "#%%\n",
     "is_executing": true
    }
   }
  },
  {
   "cell_type": "code",
   "execution_count": null,
   "outputs": [],
   "source": [
    "spy_roll = spy.rolling(window=10)\n",
    "spy_roll = spy_roll.mean()"
   ],
   "metadata": {
    "collapsed": false,
    "pycharm": {
     "name": "#%%\n",
     "is_executing": true
    }
   }
  },
  {
   "cell_type": "code",
   "execution_count": null,
   "outputs": [],
   "source": [
    "spy_roll.head(15)"
   ],
   "metadata": {
    "collapsed": false,
    "pycharm": {
     "name": "#%%\n",
     "is_executing": true
    }
   }
  },
  {
   "cell_type": "code",
   "execution_count": null,
   "outputs": [],
   "source": [
    "spy.rolling(window=10).median()"
   ],
   "metadata": {
    "collapsed": false,
    "pycharm": {
     "name": "#%%\n",
     "is_executing": true
    }
   }
  },
  {
   "cell_type": "code",
   "execution_count": null,
   "outputs": [],
   "source": [
    "spy.rolling(window=10).max()"
   ],
   "metadata": {
    "collapsed": false,
    "pycharm": {
     "name": "#%%\n",
     "is_executing": true
    }
   }
  },
  {
   "cell_type": "code",
   "execution_count": null,
   "outputs": [],
   "source": [
    "# With `min_periods=`, we can set minimum number of values to start calculating\n",
    "spy.rolling(window=10, min_periods=5).max()"
   ],
   "metadata": {
    "collapsed": false,
    "pycharm": {
     "name": "#%%\n",
     "is_executing": true
    }
   }
  },
  {
   "cell_type": "code",
   "execution_count": null,
   "outputs": [],
   "source": [
    "SPY = yf.download(\"SPY\")\n",
    "spy = SPY.Close.to_frame()\n",
    "spy[\"SMA50\"] = spy.rolling(window=50, min_periods=50).mean()\n",
    "spy"
   ],
   "metadata": {
    "collapsed": false,
    "pycharm": {
     "name": "#%%\n",
     "is_executing": true
    }
   }
  },
  {
   "cell_type": "code",
   "execution_count": null,
   "outputs": [],
   "source": [],
   "metadata": {
    "collapsed": false,
    "pycharm": {
     "name": "#%%\n",
     "is_executing": true
    }
   }
  }
 ],
 "metadata": {
  "kernelspec": {
   "display_name": "Python 3",
   "language": "python",
   "name": "python3"
  },
  "language_info": {
   "codemirror_mode": {
    "name": "ipython",
    "version": 2
   },
   "file_extension": ".py",
   "mimetype": "text/x-python",
   "name": "python",
   "nbconvert_exporter": "python",
   "pygments_lexer": "ipython2",
   "version": "2.7.6"
  }
 },
 "nbformat": 4,
 "nbformat_minor": 0
}