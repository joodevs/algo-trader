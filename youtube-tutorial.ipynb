{
 "cells": [
  {
   "cell_type": "code",
   "execution_count": 2,
   "metadata": {
    "collapsed": true,
    "pycharm": {
     "name": "#%%\n"
    }
   },
   "outputs": [],
   "source": [
    "import yfinance as yf\n",
    "import pandas as pd\n",
    "import numpy as np\n",
    "import matplotlib.pyplot as plt"
   ]
  },
  {
   "cell_type": "code",
   "execution_count": 16,
   "outputs": [
    {
     "name": "stderr",
     "output_type": "stream",
     "text": [
      "[*********************100%%**********************]  1 of 1 completed\n"
     ]
    },
    {
     "data": {
      "text/plain": "                  Open        High         Low       Close   Adj Close  \\\nDate                                                                     \n2010-01-04    7.622500    7.660714    7.585000    7.643214    6.461977   \n2010-01-05    7.664286    7.699643    7.616071    7.656429    6.473148   \n2010-01-06    7.656429    7.686786    7.526786    7.534643    6.370184   \n2010-01-07    7.562500    7.571429    7.466071    7.520714    6.358408   \n2010-01-08    7.510714    7.571429    7.466429    7.570714    6.400681   \n...                ...         ...         ...         ...         ...   \n2020-12-24  131.320007  133.460007  131.100006  131.970001  129.339066   \n2020-12-28  133.990005  137.339996  133.509995  136.690002  133.964951   \n2020-12-29  138.050003  138.789993  134.339996  134.869995  132.181229   \n2020-12-30  135.580002  135.990005  133.399994  133.720001  131.054153   \n2020-12-31  134.080002  134.740005  131.720001  132.690002  130.044693   \n\n               Volume  \nDate                   \n2010-01-04  493729600  \n2010-01-05  601904800  \n2010-01-06  552160000  \n2010-01-07  477131200  \n2010-01-08  447610800  \n...               ...  \n2020-12-24   54930100  \n2020-12-28  124486200  \n2020-12-29  121047300  \n2020-12-30   96452100  \n2020-12-31   99116600  \n\n[2769 rows x 6 columns]",
      "text/html": "<div>\n<style scoped>\n    .dataframe tbody tr th:only-of-type {\n        vertical-align: middle;\n    }\n\n    .dataframe tbody tr th {\n        vertical-align: top;\n    }\n\n    .dataframe thead th {\n        text-align: right;\n    }\n</style>\n<table border=\"1\" class=\"dataframe\">\n  <thead>\n    <tr style=\"text-align: right;\">\n      <th></th>\n      <th>Open</th>\n      <th>High</th>\n      <th>Low</th>\n      <th>Close</th>\n      <th>Adj Close</th>\n      <th>Volume</th>\n    </tr>\n    <tr>\n      <th>Date</th>\n      <th></th>\n      <th></th>\n      <th></th>\n      <th></th>\n      <th></th>\n      <th></th>\n    </tr>\n  </thead>\n  <tbody>\n    <tr>\n      <th>2010-01-04</th>\n      <td>7.622500</td>\n      <td>7.660714</td>\n      <td>7.585000</td>\n      <td>7.643214</td>\n      <td>6.461977</td>\n      <td>493729600</td>\n    </tr>\n    <tr>\n      <th>2010-01-05</th>\n      <td>7.664286</td>\n      <td>7.699643</td>\n      <td>7.616071</td>\n      <td>7.656429</td>\n      <td>6.473148</td>\n      <td>601904800</td>\n    </tr>\n    <tr>\n      <th>2010-01-06</th>\n      <td>7.656429</td>\n      <td>7.686786</td>\n      <td>7.526786</td>\n      <td>7.534643</td>\n      <td>6.370184</td>\n      <td>552160000</td>\n    </tr>\n    <tr>\n      <th>2010-01-07</th>\n      <td>7.562500</td>\n      <td>7.571429</td>\n      <td>7.466071</td>\n      <td>7.520714</td>\n      <td>6.358408</td>\n      <td>477131200</td>\n    </tr>\n    <tr>\n      <th>2010-01-08</th>\n      <td>7.510714</td>\n      <td>7.571429</td>\n      <td>7.466429</td>\n      <td>7.570714</td>\n      <td>6.400681</td>\n      <td>447610800</td>\n    </tr>\n    <tr>\n      <th>...</th>\n      <td>...</td>\n      <td>...</td>\n      <td>...</td>\n      <td>...</td>\n      <td>...</td>\n      <td>...</td>\n    </tr>\n    <tr>\n      <th>2020-12-24</th>\n      <td>131.320007</td>\n      <td>133.460007</td>\n      <td>131.100006</td>\n      <td>131.970001</td>\n      <td>129.339066</td>\n      <td>54930100</td>\n    </tr>\n    <tr>\n      <th>2020-12-28</th>\n      <td>133.990005</td>\n      <td>137.339996</td>\n      <td>133.509995</td>\n      <td>136.690002</td>\n      <td>133.964951</td>\n      <td>124486200</td>\n    </tr>\n    <tr>\n      <th>2020-12-29</th>\n      <td>138.050003</td>\n      <td>138.789993</td>\n      <td>134.339996</td>\n      <td>134.869995</td>\n      <td>132.181229</td>\n      <td>121047300</td>\n    </tr>\n    <tr>\n      <th>2020-12-30</th>\n      <td>135.580002</td>\n      <td>135.990005</td>\n      <td>133.399994</td>\n      <td>133.720001</td>\n      <td>131.054153</td>\n      <td>96452100</td>\n    </tr>\n    <tr>\n      <th>2020-12-31</th>\n      <td>134.080002</td>\n      <td>134.740005</td>\n      <td>131.720001</td>\n      <td>132.690002</td>\n      <td>130.044693</td>\n      <td>99116600</td>\n    </tr>\n  </tbody>\n</table>\n<p>2769 rows × 6 columns</p>\n</div>"
     },
     "execution_count": 16,
     "metadata": {},
     "output_type": "execute_result"
    }
   ],
   "source": [
    "# Retrieve Apple from Yahoo Finance\n",
    "Apple = yf.download(\"AAPL\", start='2010-01-01', end='2021-01-01')\n",
    "Apple"
   ],
   "metadata": {
    "collapsed": false,
    "pycharm": {
     "name": "#%%\n"
    }
   }
  },
  {
   "cell_type": "code",
   "execution_count": 10,
   "outputs": [
    {
     "name": "stderr",
     "output_type": "stream",
     "text": [
      "[*********************100%%**********************]  3 of 3 completed\n"
     ]
    },
    {
     "data": {
      "text/plain": "Price        Adj Close                              Close             \\\nTicker            AAPL         KO         SPY        AAPL         KO   \nDate                                                                   \n2010-01-04    6.461977  18.351225   86.860062    7.643214  28.520000   \n2010-01-05    6.473148  18.129242   87.090004    7.656429  28.174999   \n2010-01-06    6.370184  18.122803   87.151314    7.534643  28.165001   \n2010-01-07    6.358408  18.077759   87.519211    7.520714  28.094999   \n2010-01-08    6.400681  17.743168   87.810448    7.570714  27.575001   \n...                ...        ...         ...         ...        ...   \n2020-12-24  129.339066  48.392036  351.874725  131.970001  53.439999   \n2020-12-28  133.964951  49.044025  354.897675  136.690002  54.160000   \n2020-12-29  132.181229  49.016861  354.220551  134.869995  54.130001   \n2020-12-30  131.054153  49.297577  354.725891  133.720001  54.439999   \n2020-12-31  130.044693  49.659794  356.528259  132.690002  54.840000   \n\nPrice                         High                                Low  \\\nTicker             SPY        AAPL         KO         SPY        AAPL   \nDate                                                                    \n2010-01-04  113.330002    7.660714  28.610001  113.389999    7.585000   \n2010-01-05  113.629997    7.699643  28.495001  113.680000    7.616071   \n2010-01-06  113.709999    7.686786  28.219999  113.989998    7.526786   \n2010-01-07  114.190002    7.571429  28.184999  114.330002    7.466071   \n2010-01-08  114.570000    7.571429  27.820000  114.620003    7.466429   \n...                ...         ...        ...         ...         ...   \n2020-12-24  369.000000  133.460007  53.549999  369.029999  131.100006   \n2020-12-28  372.170013  137.339996  54.439999  372.589996  133.509995   \n2020-12-29  371.459991  138.789993  54.490002  374.000000  134.339996   \n2020-12-30  371.989990  135.990005  54.630001  373.100006  133.399994   \n2020-12-31  373.880005  134.740005  54.930000  374.660004  131.720001   \n\nPrice                                    Open                         \\\nTicker             KO         SPY        AAPL         KO         SPY   \nDate                                                                   \n2010-01-04  28.450001  111.510002    7.622500  28.580000  112.370003   \n2010-01-05  28.070000  112.849998    7.664286  28.424999  113.260002   \n2010-01-06  27.990000  113.430000    7.656429  28.174999  113.519997   \n2010-01-07  27.875000  113.180000    7.562500  28.165001  113.500000   \n2010-01-08  27.375000  113.660004    7.510714  27.730000  113.889999   \n...               ...         ...         ...        ...         ...   \n2020-12-24  53.020000  367.450012  131.320007  53.020000  368.079987   \n2020-12-28  53.730000  371.070007  133.990005  53.849998  371.739990   \n2020-12-29  54.020000  370.829987  138.050003  54.450001  373.809998   \n2020-12-30  54.029999  371.570007  135.580002  54.049999  372.339996   \n2020-12-31  54.270000  371.230011  134.080002  54.450001  371.779999   \n\nPrice          Volume                       \nTicker           AAPL        KO        SPY  \nDate                                        \n2010-01-04  493729600  13870400  118944600  \n2010-01-05  601904800  23172400  111579900  \n2010-01-06  552160000  19264600  116074400  \n2010-01-07  477131200  13234600  131091100  \n2010-01-08  447610800  28712400  126402800  \n...               ...       ...        ...  \n2020-12-24   54930100   3265500   26457900  \n2020-12-28  124486200   9020500   39000400  \n2020-12-29  121047300   8320600   53680500  \n2020-12-30   96452100   8142700   49455300  \n2020-12-31   99116600   8495000   78520700  \n\n[2769 rows x 18 columns]",
      "text/html": "<div>\n<style scoped>\n    .dataframe tbody tr th:only-of-type {\n        vertical-align: middle;\n    }\n\n    .dataframe tbody tr th {\n        vertical-align: top;\n    }\n\n    .dataframe thead tr th {\n        text-align: left;\n    }\n\n    .dataframe thead tr:last-of-type th {\n        text-align: right;\n    }\n</style>\n<table border=\"1\" class=\"dataframe\">\n  <thead>\n    <tr>\n      <th>Price</th>\n      <th colspan=\"3\" halign=\"left\">Adj Close</th>\n      <th colspan=\"3\" halign=\"left\">Close</th>\n      <th colspan=\"3\" halign=\"left\">High</th>\n      <th colspan=\"3\" halign=\"left\">Low</th>\n      <th colspan=\"3\" halign=\"left\">Open</th>\n      <th colspan=\"3\" halign=\"left\">Volume</th>\n    </tr>\n    <tr>\n      <th>Ticker</th>\n      <th>AAPL</th>\n      <th>KO</th>\n      <th>SPY</th>\n      <th>AAPL</th>\n      <th>KO</th>\n      <th>SPY</th>\n      <th>AAPL</th>\n      <th>KO</th>\n      <th>SPY</th>\n      <th>AAPL</th>\n      <th>KO</th>\n      <th>SPY</th>\n      <th>AAPL</th>\n      <th>KO</th>\n      <th>SPY</th>\n      <th>AAPL</th>\n      <th>KO</th>\n      <th>SPY</th>\n    </tr>\n    <tr>\n      <th>Date</th>\n      <th></th>\n      <th></th>\n      <th></th>\n      <th></th>\n      <th></th>\n      <th></th>\n      <th></th>\n      <th></th>\n      <th></th>\n      <th></th>\n      <th></th>\n      <th></th>\n      <th></th>\n      <th></th>\n      <th></th>\n      <th></th>\n      <th></th>\n      <th></th>\n    </tr>\n  </thead>\n  <tbody>\n    <tr>\n      <th>2010-01-04</th>\n      <td>6.461977</td>\n      <td>18.351225</td>\n      <td>86.860062</td>\n      <td>7.643214</td>\n      <td>28.520000</td>\n      <td>113.330002</td>\n      <td>7.660714</td>\n      <td>28.610001</td>\n      <td>113.389999</td>\n      <td>7.585000</td>\n      <td>28.450001</td>\n      <td>111.510002</td>\n      <td>7.622500</td>\n      <td>28.580000</td>\n      <td>112.370003</td>\n      <td>493729600</td>\n      <td>13870400</td>\n      <td>118944600</td>\n    </tr>\n    <tr>\n      <th>2010-01-05</th>\n      <td>6.473148</td>\n      <td>18.129242</td>\n      <td>87.090004</td>\n      <td>7.656429</td>\n      <td>28.174999</td>\n      <td>113.629997</td>\n      <td>7.699643</td>\n      <td>28.495001</td>\n      <td>113.680000</td>\n      <td>7.616071</td>\n      <td>28.070000</td>\n      <td>112.849998</td>\n      <td>7.664286</td>\n      <td>28.424999</td>\n      <td>113.260002</td>\n      <td>601904800</td>\n      <td>23172400</td>\n      <td>111579900</td>\n    </tr>\n    <tr>\n      <th>2010-01-06</th>\n      <td>6.370184</td>\n      <td>18.122803</td>\n      <td>87.151314</td>\n      <td>7.534643</td>\n      <td>28.165001</td>\n      <td>113.709999</td>\n      <td>7.686786</td>\n      <td>28.219999</td>\n      <td>113.989998</td>\n      <td>7.526786</td>\n      <td>27.990000</td>\n      <td>113.430000</td>\n      <td>7.656429</td>\n      <td>28.174999</td>\n      <td>113.519997</td>\n      <td>552160000</td>\n      <td>19264600</td>\n      <td>116074400</td>\n    </tr>\n    <tr>\n      <th>2010-01-07</th>\n      <td>6.358408</td>\n      <td>18.077759</td>\n      <td>87.519211</td>\n      <td>7.520714</td>\n      <td>28.094999</td>\n      <td>114.190002</td>\n      <td>7.571429</td>\n      <td>28.184999</td>\n      <td>114.330002</td>\n      <td>7.466071</td>\n      <td>27.875000</td>\n      <td>113.180000</td>\n      <td>7.562500</td>\n      <td>28.165001</td>\n      <td>113.500000</td>\n      <td>477131200</td>\n      <td>13234600</td>\n      <td>131091100</td>\n    </tr>\n    <tr>\n      <th>2010-01-08</th>\n      <td>6.400681</td>\n      <td>17.743168</td>\n      <td>87.810448</td>\n      <td>7.570714</td>\n      <td>27.575001</td>\n      <td>114.570000</td>\n      <td>7.571429</td>\n      <td>27.820000</td>\n      <td>114.620003</td>\n      <td>7.466429</td>\n      <td>27.375000</td>\n      <td>113.660004</td>\n      <td>7.510714</td>\n      <td>27.730000</td>\n      <td>113.889999</td>\n      <td>447610800</td>\n      <td>28712400</td>\n      <td>126402800</td>\n    </tr>\n    <tr>\n      <th>...</th>\n      <td>...</td>\n      <td>...</td>\n      <td>...</td>\n      <td>...</td>\n      <td>...</td>\n      <td>...</td>\n      <td>...</td>\n      <td>...</td>\n      <td>...</td>\n      <td>...</td>\n      <td>...</td>\n      <td>...</td>\n      <td>...</td>\n      <td>...</td>\n      <td>...</td>\n      <td>...</td>\n      <td>...</td>\n      <td>...</td>\n    </tr>\n    <tr>\n      <th>2020-12-24</th>\n      <td>129.339066</td>\n      <td>48.392036</td>\n      <td>351.874725</td>\n      <td>131.970001</td>\n      <td>53.439999</td>\n      <td>369.000000</td>\n      <td>133.460007</td>\n      <td>53.549999</td>\n      <td>369.029999</td>\n      <td>131.100006</td>\n      <td>53.020000</td>\n      <td>367.450012</td>\n      <td>131.320007</td>\n      <td>53.020000</td>\n      <td>368.079987</td>\n      <td>54930100</td>\n      <td>3265500</td>\n      <td>26457900</td>\n    </tr>\n    <tr>\n      <th>2020-12-28</th>\n      <td>133.964951</td>\n      <td>49.044025</td>\n      <td>354.897675</td>\n      <td>136.690002</td>\n      <td>54.160000</td>\n      <td>372.170013</td>\n      <td>137.339996</td>\n      <td>54.439999</td>\n      <td>372.589996</td>\n      <td>133.509995</td>\n      <td>53.730000</td>\n      <td>371.070007</td>\n      <td>133.990005</td>\n      <td>53.849998</td>\n      <td>371.739990</td>\n      <td>124486200</td>\n      <td>9020500</td>\n      <td>39000400</td>\n    </tr>\n    <tr>\n      <th>2020-12-29</th>\n      <td>132.181229</td>\n      <td>49.016861</td>\n      <td>354.220551</td>\n      <td>134.869995</td>\n      <td>54.130001</td>\n      <td>371.459991</td>\n      <td>138.789993</td>\n      <td>54.490002</td>\n      <td>374.000000</td>\n      <td>134.339996</td>\n      <td>54.020000</td>\n      <td>370.829987</td>\n      <td>138.050003</td>\n      <td>54.450001</td>\n      <td>373.809998</td>\n      <td>121047300</td>\n      <td>8320600</td>\n      <td>53680500</td>\n    </tr>\n    <tr>\n      <th>2020-12-30</th>\n      <td>131.054153</td>\n      <td>49.297577</td>\n      <td>354.725891</td>\n      <td>133.720001</td>\n      <td>54.439999</td>\n      <td>371.989990</td>\n      <td>135.990005</td>\n      <td>54.630001</td>\n      <td>373.100006</td>\n      <td>133.399994</td>\n      <td>54.029999</td>\n      <td>371.570007</td>\n      <td>135.580002</td>\n      <td>54.049999</td>\n      <td>372.339996</td>\n      <td>96452100</td>\n      <td>8142700</td>\n      <td>49455300</td>\n    </tr>\n    <tr>\n      <th>2020-12-31</th>\n      <td>130.044693</td>\n      <td>49.659794</td>\n      <td>356.528259</td>\n      <td>132.690002</td>\n      <td>54.840000</td>\n      <td>373.880005</td>\n      <td>134.740005</td>\n      <td>54.930000</td>\n      <td>374.660004</td>\n      <td>131.720001</td>\n      <td>54.270000</td>\n      <td>371.230011</td>\n      <td>134.080002</td>\n      <td>54.450001</td>\n      <td>371.779999</td>\n      <td>99116600</td>\n      <td>8495000</td>\n      <td>78520700</td>\n    </tr>\n  </tbody>\n</table>\n<p>2769 rows × 18 columns</p>\n</div>"
     },
     "execution_count": 10,
     "metadata": {},
     "output_type": "execute_result"
    }
   ],
   "source": [
    "# Obtain multiple stocks using a list\n",
    "ticker = [\"SPY\", \"AAPL\", \"KO\"]\n",
    "stocks = yf.download(ticker, start='2010-01-01', end='2021-01-01')\n",
    "stocks"
   ],
   "metadata": {
    "collapsed": false,
    "pycharm": {
     "name": "#%%\n"
    }
   }
  },
  {
   "cell_type": "code",
   "execution_count": 11,
   "outputs": [
    {
     "data": {
      "text/plain": "Price      Adj Close                           Close                         \\\nTicker          AAPL         KO        SPY      AAPL         KO         SPY   \nDate                                                                          \n2010-01-04  6.461977  18.351225  86.860062  7.643214  28.520000  113.330002   \n2010-01-05  6.473148  18.129242  87.090004  7.656429  28.174999  113.629997   \n2010-01-06  6.370184  18.122803  87.151314  7.534643  28.165001  113.709999   \n2010-01-07  6.358408  18.077759  87.519211  7.520714  28.094999  114.190002   \n2010-01-08  6.400681  17.743168  87.810448  7.570714  27.575001  114.570000   \n\nPrice           High                              Low                         \\\nTicker          AAPL         KO         SPY      AAPL         KO         SPY   \nDate                                                                           \n2010-01-04  7.660714  28.610001  113.389999  7.585000  28.450001  111.510002   \n2010-01-05  7.699643  28.495001  113.680000  7.616071  28.070000  112.849998   \n2010-01-06  7.686786  28.219999  113.989998  7.526786  27.990000  113.430000   \n2010-01-07  7.571429  28.184999  114.330002  7.466071  27.875000  113.180000   \n2010-01-08  7.571429  27.820000  114.620003  7.466429  27.375000  113.660004   \n\nPrice           Open                            Volume                       \nTicker          AAPL         KO         SPY       AAPL        KO        SPY  \nDate                                                                         \n2010-01-04  7.622500  28.580000  112.370003  493729600  13870400  118944600  \n2010-01-05  7.664286  28.424999  113.260002  601904800  23172400  111579900  \n2010-01-06  7.656429  28.174999  113.519997  552160000  19264600  116074400  \n2010-01-07  7.562500  28.165001  113.500000  477131200  13234600  131091100  \n2010-01-08  7.510714  27.730000  113.889999  447610800  28712400  126402800  ",
      "text/html": "<div>\n<style scoped>\n    .dataframe tbody tr th:only-of-type {\n        vertical-align: middle;\n    }\n\n    .dataframe tbody tr th {\n        vertical-align: top;\n    }\n\n    .dataframe thead tr th {\n        text-align: left;\n    }\n\n    .dataframe thead tr:last-of-type th {\n        text-align: right;\n    }\n</style>\n<table border=\"1\" class=\"dataframe\">\n  <thead>\n    <tr>\n      <th>Price</th>\n      <th colspan=\"3\" halign=\"left\">Adj Close</th>\n      <th colspan=\"3\" halign=\"left\">Close</th>\n      <th colspan=\"3\" halign=\"left\">High</th>\n      <th colspan=\"3\" halign=\"left\">Low</th>\n      <th colspan=\"3\" halign=\"left\">Open</th>\n      <th colspan=\"3\" halign=\"left\">Volume</th>\n    </tr>\n    <tr>\n      <th>Ticker</th>\n      <th>AAPL</th>\n      <th>KO</th>\n      <th>SPY</th>\n      <th>AAPL</th>\n      <th>KO</th>\n      <th>SPY</th>\n      <th>AAPL</th>\n      <th>KO</th>\n      <th>SPY</th>\n      <th>AAPL</th>\n      <th>KO</th>\n      <th>SPY</th>\n      <th>AAPL</th>\n      <th>KO</th>\n      <th>SPY</th>\n      <th>AAPL</th>\n      <th>KO</th>\n      <th>SPY</th>\n    </tr>\n    <tr>\n      <th>Date</th>\n      <th></th>\n      <th></th>\n      <th></th>\n      <th></th>\n      <th></th>\n      <th></th>\n      <th></th>\n      <th></th>\n      <th></th>\n      <th></th>\n      <th></th>\n      <th></th>\n      <th></th>\n      <th></th>\n      <th></th>\n      <th></th>\n      <th></th>\n      <th></th>\n    </tr>\n  </thead>\n  <tbody>\n    <tr>\n      <th>2010-01-04</th>\n      <td>6.461977</td>\n      <td>18.351225</td>\n      <td>86.860062</td>\n      <td>7.643214</td>\n      <td>28.520000</td>\n      <td>113.330002</td>\n      <td>7.660714</td>\n      <td>28.610001</td>\n      <td>113.389999</td>\n      <td>7.585000</td>\n      <td>28.450001</td>\n      <td>111.510002</td>\n      <td>7.622500</td>\n      <td>28.580000</td>\n      <td>112.370003</td>\n      <td>493729600</td>\n      <td>13870400</td>\n      <td>118944600</td>\n    </tr>\n    <tr>\n      <th>2010-01-05</th>\n      <td>6.473148</td>\n      <td>18.129242</td>\n      <td>87.090004</td>\n      <td>7.656429</td>\n      <td>28.174999</td>\n      <td>113.629997</td>\n      <td>7.699643</td>\n      <td>28.495001</td>\n      <td>113.680000</td>\n      <td>7.616071</td>\n      <td>28.070000</td>\n      <td>112.849998</td>\n      <td>7.664286</td>\n      <td>28.424999</td>\n      <td>113.260002</td>\n      <td>601904800</td>\n      <td>23172400</td>\n      <td>111579900</td>\n    </tr>\n    <tr>\n      <th>2010-01-06</th>\n      <td>6.370184</td>\n      <td>18.122803</td>\n      <td>87.151314</td>\n      <td>7.534643</td>\n      <td>28.165001</td>\n      <td>113.709999</td>\n      <td>7.686786</td>\n      <td>28.219999</td>\n      <td>113.989998</td>\n      <td>7.526786</td>\n      <td>27.990000</td>\n      <td>113.430000</td>\n      <td>7.656429</td>\n      <td>28.174999</td>\n      <td>113.519997</td>\n      <td>552160000</td>\n      <td>19264600</td>\n      <td>116074400</td>\n    </tr>\n    <tr>\n      <th>2010-01-07</th>\n      <td>6.358408</td>\n      <td>18.077759</td>\n      <td>87.519211</td>\n      <td>7.520714</td>\n      <td>28.094999</td>\n      <td>114.190002</td>\n      <td>7.571429</td>\n      <td>28.184999</td>\n      <td>114.330002</td>\n      <td>7.466071</td>\n      <td>27.875000</td>\n      <td>113.180000</td>\n      <td>7.562500</td>\n      <td>28.165001</td>\n      <td>113.500000</td>\n      <td>477131200</td>\n      <td>13234600</td>\n      <td>131091100</td>\n    </tr>\n    <tr>\n      <th>2010-01-08</th>\n      <td>6.400681</td>\n      <td>17.743168</td>\n      <td>87.810448</td>\n      <td>7.570714</td>\n      <td>27.575001</td>\n      <td>114.570000</td>\n      <td>7.571429</td>\n      <td>27.820000</td>\n      <td>114.620003</td>\n      <td>7.466429</td>\n      <td>27.375000</td>\n      <td>113.660004</td>\n      <td>7.510714</td>\n      <td>27.730000</td>\n      <td>113.889999</td>\n      <td>447610800</td>\n      <td>28712400</td>\n      <td>126402800</td>\n    </tr>\n  </tbody>\n</table>\n</div>"
     },
     "execution_count": 11,
     "metadata": {},
     "output_type": "execute_result"
    }
   ],
   "source": [
    "# Print top five\n",
    "stocks.head()"
   ],
   "metadata": {
    "collapsed": false,
    "pycharm": {
     "name": "#%%\n"
    }
   }
  },
  {
   "cell_type": "code",
   "execution_count": 12,
   "outputs": [
    {
     "data": {
      "text/plain": "Price        Adj Close                              Close             \\\nTicker            AAPL         KO         SPY        AAPL         KO   \nDate                                                                   \n2020-12-24  129.339066  48.392036  351.874725  131.970001  53.439999   \n2020-12-28  133.964951  49.044025  354.897675  136.690002  54.160000   \n2020-12-29  132.181229  49.016861  354.220551  134.869995  54.130001   \n2020-12-30  131.054153  49.297577  354.725891  133.720001  54.439999   \n2020-12-31  130.044693  49.659794  356.528259  132.690002  54.840000   \n\nPrice                         High                                Low  \\\nTicker             SPY        AAPL         KO         SPY        AAPL   \nDate                                                                    \n2020-12-24  369.000000  133.460007  53.549999  369.029999  131.100006   \n2020-12-28  372.170013  137.339996  54.439999  372.589996  133.509995   \n2020-12-29  371.459991  138.789993  54.490002  374.000000  134.339996   \n2020-12-30  371.989990  135.990005  54.630001  373.100006  133.399994   \n2020-12-31  373.880005  134.740005  54.930000  374.660004  131.720001   \n\nPrice                                    Open                         \\\nTicker             KO         SPY        AAPL         KO         SPY   \nDate                                                                   \n2020-12-24  53.020000  367.450012  131.320007  53.020000  368.079987   \n2020-12-28  53.730000  371.070007  133.990005  53.849998  371.739990   \n2020-12-29  54.020000  370.829987  138.050003  54.450001  373.809998   \n2020-12-30  54.029999  371.570007  135.580002  54.049999  372.339996   \n2020-12-31  54.270000  371.230011  134.080002  54.450001  371.779999   \n\nPrice          Volume                     \nTicker           AAPL       KO       SPY  \nDate                                      \n2020-12-24   54930100  3265500  26457900  \n2020-12-28  124486200  9020500  39000400  \n2020-12-29  121047300  8320600  53680500  \n2020-12-30   96452100  8142700  49455300  \n2020-12-31   99116600  8495000  78520700  ",
      "text/html": "<div>\n<style scoped>\n    .dataframe tbody tr th:only-of-type {\n        vertical-align: middle;\n    }\n\n    .dataframe tbody tr th {\n        vertical-align: top;\n    }\n\n    .dataframe thead tr th {\n        text-align: left;\n    }\n\n    .dataframe thead tr:last-of-type th {\n        text-align: right;\n    }\n</style>\n<table border=\"1\" class=\"dataframe\">\n  <thead>\n    <tr>\n      <th>Price</th>\n      <th colspan=\"3\" halign=\"left\">Adj Close</th>\n      <th colspan=\"3\" halign=\"left\">Close</th>\n      <th colspan=\"3\" halign=\"left\">High</th>\n      <th colspan=\"3\" halign=\"left\">Low</th>\n      <th colspan=\"3\" halign=\"left\">Open</th>\n      <th colspan=\"3\" halign=\"left\">Volume</th>\n    </tr>\n    <tr>\n      <th>Ticker</th>\n      <th>AAPL</th>\n      <th>KO</th>\n      <th>SPY</th>\n      <th>AAPL</th>\n      <th>KO</th>\n      <th>SPY</th>\n      <th>AAPL</th>\n      <th>KO</th>\n      <th>SPY</th>\n      <th>AAPL</th>\n      <th>KO</th>\n      <th>SPY</th>\n      <th>AAPL</th>\n      <th>KO</th>\n      <th>SPY</th>\n      <th>AAPL</th>\n      <th>KO</th>\n      <th>SPY</th>\n    </tr>\n    <tr>\n      <th>Date</th>\n      <th></th>\n      <th></th>\n      <th></th>\n      <th></th>\n      <th></th>\n      <th></th>\n      <th></th>\n      <th></th>\n      <th></th>\n      <th></th>\n      <th></th>\n      <th></th>\n      <th></th>\n      <th></th>\n      <th></th>\n      <th></th>\n      <th></th>\n      <th></th>\n    </tr>\n  </thead>\n  <tbody>\n    <tr>\n      <th>2020-12-24</th>\n      <td>129.339066</td>\n      <td>48.392036</td>\n      <td>351.874725</td>\n      <td>131.970001</td>\n      <td>53.439999</td>\n      <td>369.000000</td>\n      <td>133.460007</td>\n      <td>53.549999</td>\n      <td>369.029999</td>\n      <td>131.100006</td>\n      <td>53.020000</td>\n      <td>367.450012</td>\n      <td>131.320007</td>\n      <td>53.020000</td>\n      <td>368.079987</td>\n      <td>54930100</td>\n      <td>3265500</td>\n      <td>26457900</td>\n    </tr>\n    <tr>\n      <th>2020-12-28</th>\n      <td>133.964951</td>\n      <td>49.044025</td>\n      <td>354.897675</td>\n      <td>136.690002</td>\n      <td>54.160000</td>\n      <td>372.170013</td>\n      <td>137.339996</td>\n      <td>54.439999</td>\n      <td>372.589996</td>\n      <td>133.509995</td>\n      <td>53.730000</td>\n      <td>371.070007</td>\n      <td>133.990005</td>\n      <td>53.849998</td>\n      <td>371.739990</td>\n      <td>124486200</td>\n      <td>9020500</td>\n      <td>39000400</td>\n    </tr>\n    <tr>\n      <th>2020-12-29</th>\n      <td>132.181229</td>\n      <td>49.016861</td>\n      <td>354.220551</td>\n      <td>134.869995</td>\n      <td>54.130001</td>\n      <td>371.459991</td>\n      <td>138.789993</td>\n      <td>54.490002</td>\n      <td>374.000000</td>\n      <td>134.339996</td>\n      <td>54.020000</td>\n      <td>370.829987</td>\n      <td>138.050003</td>\n      <td>54.450001</td>\n      <td>373.809998</td>\n      <td>121047300</td>\n      <td>8320600</td>\n      <td>53680500</td>\n    </tr>\n    <tr>\n      <th>2020-12-30</th>\n      <td>131.054153</td>\n      <td>49.297577</td>\n      <td>354.725891</td>\n      <td>133.720001</td>\n      <td>54.439999</td>\n      <td>371.989990</td>\n      <td>135.990005</td>\n      <td>54.630001</td>\n      <td>373.100006</td>\n      <td>133.399994</td>\n      <td>54.029999</td>\n      <td>371.570007</td>\n      <td>135.580002</td>\n      <td>54.049999</td>\n      <td>372.339996</td>\n      <td>96452100</td>\n      <td>8142700</td>\n      <td>49455300</td>\n    </tr>\n    <tr>\n      <th>2020-12-31</th>\n      <td>130.044693</td>\n      <td>49.659794</td>\n      <td>356.528259</td>\n      <td>132.690002</td>\n      <td>54.840000</td>\n      <td>373.880005</td>\n      <td>134.740005</td>\n      <td>54.930000</td>\n      <td>374.660004</td>\n      <td>131.720001</td>\n      <td>54.270000</td>\n      <td>371.230011</td>\n      <td>134.080002</td>\n      <td>54.450001</td>\n      <td>371.779999</td>\n      <td>99116600</td>\n      <td>8495000</td>\n      <td>78520700</td>\n    </tr>\n  </tbody>\n</table>\n</div>"
     },
     "execution_count": 12,
     "metadata": {},
     "output_type": "execute_result"
    }
   ],
   "source": [
    "# Print bottom five\n",
    "stocks.tail()"
   ],
   "metadata": {
    "collapsed": false,
    "pycharm": {
     "name": "#%%\n"
    }
   }
  },
  {
   "cell_type": "code",
   "execution_count": 13,
   "outputs": [
    {
     "name": "stdout",
     "output_type": "stream",
     "text": [
      "<class 'pandas.core.frame.DataFrame'>\n",
      "DatetimeIndex: 2769 entries, 2010-01-04 to 2020-12-31\n",
      "Data columns (total 18 columns):\n",
      " #   Column             Non-Null Count  Dtype  \n",
      "---  ------             --------------  -----  \n",
      " 0   (Adj Close, AAPL)  2769 non-null   float64\n",
      " 1   (Adj Close, KO)    2769 non-null   float64\n",
      " 2   (Adj Close, SPY)   2769 non-null   float64\n",
      " 3   (Close, AAPL)      2769 non-null   float64\n",
      " 4   (Close, KO)        2769 non-null   float64\n",
      " 5   (Close, SPY)       2769 non-null   float64\n",
      " 6   (High, AAPL)       2769 non-null   float64\n",
      " 7   (High, KO)         2769 non-null   float64\n",
      " 8   (High, SPY)        2769 non-null   float64\n",
      " 9   (Low, AAPL)        2769 non-null   float64\n",
      " 10  (Low, KO)          2769 non-null   float64\n",
      " 11  (Low, SPY)         2769 non-null   float64\n",
      " 12  (Open, AAPL)       2769 non-null   float64\n",
      " 13  (Open, KO)         2769 non-null   float64\n",
      " 14  (Open, SPY)        2769 non-null   float64\n",
      " 15  (Volume, AAPL)     2769 non-null   int64  \n",
      " 16  (Volume, KO)       2769 non-null   int64  \n",
      " 17  (Volume, SPY)      2769 non-null   int64  \n",
      "dtypes: float64(15), int64(3)\n",
      "memory usage: 411.0 KB\n"
     ]
    }
   ],
   "source": [
    "# Print general info about stocks\n",
    "stocks.info()"
   ],
   "metadata": {
    "collapsed": false,
    "pycharm": {
     "name": "#%%\n"
    }
   }
  },
  {
   "cell_type": "code",
   "execution_count": 15,
   "outputs": [
    {
     "data": {
      "text/plain": "           Price           Adj Close         Adj Close.1         Adj Close.2  \\\n0         Ticker                AAPL                  KO                 SPY   \n1           Date                 NaN                 NaN                 NaN   \n2     2010-01-04   6.461976528167725  18.351224899291992   86.86006164550781   \n3     2010-01-05   6.473147869110107  18.129241943359375   87.09000396728516   \n4     2010-01-06   6.370183944702148     18.122802734375   87.15131378173828   \n...          ...                 ...                 ...                 ...   \n2766  2020-12-24   129.3390655517578   48.39203643798828   351.8747253417969   \n2767  2020-12-28  133.96495056152344   49.04402542114258   354.8976745605469   \n2768  2020-12-29   132.1812286376953   49.01686096191406   354.2205505371094   \n2769  2020-12-30   131.0541534423828  49.297576904296875  354.72589111328125   \n2770  2020-12-31  130.04469299316406  49.659793853759766  356.52825927734375   \n\n                   Close             Close.1             Close.2  \\\n0                   AAPL                  KO                 SPY   \n1                    NaN                 NaN                 NaN   \n2      7.643214225769043  28.520000457763672  113.33000183105469   \n3      7.656428813934326  28.174999237060547  113.62999725341797   \n4      7.534643173217773  28.165000915527344  113.70999908447266   \n...                  ...                 ...                 ...   \n2766  131.97000122070312  53.439998626708984               369.0   \n2767  136.69000244140625   54.15999984741211   372.1700134277344   \n2768   134.8699951171875  54.130001068115234   371.4599914550781   \n2769  133.72000122070312  54.439998626708984    371.989990234375   \n2770  132.69000244140625   54.84000015258789   373.8800048828125   \n\n                    High              High.1              High.2  \\\n0                   AAPL                  KO                 SPY   \n1                    NaN                 NaN                 NaN   \n2      7.660714149475098  28.610000610351562  113.38999938964844   \n3      7.699643135070801    28.4950008392334  113.68000030517578   \n4       7.68678617477417  28.219999313354492  113.98999786376953   \n...                  ...                 ...                 ...   \n2766   133.4600067138672   53.54999923706055   369.0299987792969   \n2767  137.33999633789062  54.439998626708984   372.5899963378906   \n2768   138.7899932861328    54.4900016784668               374.0   \n2769  135.99000549316406  54.630001068115234   373.1000061035156   \n2770  134.74000549316406   54.93000030517578   374.6600036621094   \n\n                     Low               Low.1               Low.2  \\\n0                   AAPL                  KO                 SPY   \n1                    NaN                 NaN                 NaN   \n2      7.585000038146973  28.450000762939453  111.51000213623047   \n3     7.6160712242126465   28.06999969482422   112.8499984741211   \n4      7.526785850524902  27.989999771118164  113.43000030517578   \n...                  ...                 ...                 ...   \n2766  131.10000610351562   53.02000045776367  367.45001220703125   \n2767  133.50999450683594   53.72999954223633  371.07000732421875   \n2768  134.33999633789062   54.02000045776367   370.8299865722656   \n2769  133.39999389648438  54.029998779296875  371.57000732421875   \n2770  131.72000122070312   54.27000045776367   371.2300109863281   \n\n                    Open              Open.1              Open.2     Volume  \\\n0                   AAPL                  KO                 SPY       AAPL   \n1                    NaN                 NaN                 NaN        NaN   \n2      7.622499942779541  28.579999923706055  112.37000274658203  493729600   \n3      7.664286136627197  28.424999237060547  113.26000213623047  601904800   \n4      7.656428813934326  28.174999237060547   113.5199966430664  552160000   \n...                  ...                 ...                 ...        ...   \n2766  131.32000732421875   53.02000045776367   368.0799865722656   54930100   \n2767  133.99000549316406  53.849998474121094    371.739990234375  124486200   \n2768   138.0500030517578   54.45000076293945  373.80999755859375  121047300   \n2769   135.5800018310547   54.04999923706055   372.3399963378906   96452100   \n2770   134.0800018310547   54.45000076293945   371.7799987792969   99116600   \n\n      Volume.1   Volume.2  \n0           KO        SPY  \n1          NaN        NaN  \n2     13870400  118944600  \n3     23172400  111579900  \n4     19264600  116074400  \n...        ...        ...  \n2766   3265500   26457900  \n2767   9020500   39000400  \n2768   8320600   53680500  \n2769   8142700   49455300  \n2770   8495000   78520700  \n\n[2771 rows x 19 columns]",
      "text/html": "<div>\n<style scoped>\n    .dataframe tbody tr th:only-of-type {\n        vertical-align: middle;\n    }\n\n    .dataframe tbody tr th {\n        vertical-align: top;\n    }\n\n    .dataframe thead th {\n        text-align: right;\n    }\n</style>\n<table border=\"1\" class=\"dataframe\">\n  <thead>\n    <tr style=\"text-align: right;\">\n      <th></th>\n      <th>Price</th>\n      <th>Adj Close</th>\n      <th>Adj Close.1</th>\n      <th>Adj Close.2</th>\n      <th>Close</th>\n      <th>Close.1</th>\n      <th>Close.2</th>\n      <th>High</th>\n      <th>High.1</th>\n      <th>High.2</th>\n      <th>Low</th>\n      <th>Low.1</th>\n      <th>Low.2</th>\n      <th>Open</th>\n      <th>Open.1</th>\n      <th>Open.2</th>\n      <th>Volume</th>\n      <th>Volume.1</th>\n      <th>Volume.2</th>\n    </tr>\n  </thead>\n  <tbody>\n    <tr>\n      <th>0</th>\n      <td>Ticker</td>\n      <td>AAPL</td>\n      <td>KO</td>\n      <td>SPY</td>\n      <td>AAPL</td>\n      <td>KO</td>\n      <td>SPY</td>\n      <td>AAPL</td>\n      <td>KO</td>\n      <td>SPY</td>\n      <td>AAPL</td>\n      <td>KO</td>\n      <td>SPY</td>\n      <td>AAPL</td>\n      <td>KO</td>\n      <td>SPY</td>\n      <td>AAPL</td>\n      <td>KO</td>\n      <td>SPY</td>\n    </tr>\n    <tr>\n      <th>1</th>\n      <td>Date</td>\n      <td>NaN</td>\n      <td>NaN</td>\n      <td>NaN</td>\n      <td>NaN</td>\n      <td>NaN</td>\n      <td>NaN</td>\n      <td>NaN</td>\n      <td>NaN</td>\n      <td>NaN</td>\n      <td>NaN</td>\n      <td>NaN</td>\n      <td>NaN</td>\n      <td>NaN</td>\n      <td>NaN</td>\n      <td>NaN</td>\n      <td>NaN</td>\n      <td>NaN</td>\n      <td>NaN</td>\n    </tr>\n    <tr>\n      <th>2</th>\n      <td>2010-01-04</td>\n      <td>6.461976528167725</td>\n      <td>18.351224899291992</td>\n      <td>86.86006164550781</td>\n      <td>7.643214225769043</td>\n      <td>28.520000457763672</td>\n      <td>113.33000183105469</td>\n      <td>7.660714149475098</td>\n      <td>28.610000610351562</td>\n      <td>113.38999938964844</td>\n      <td>7.585000038146973</td>\n      <td>28.450000762939453</td>\n      <td>111.51000213623047</td>\n      <td>7.622499942779541</td>\n      <td>28.579999923706055</td>\n      <td>112.37000274658203</td>\n      <td>493729600</td>\n      <td>13870400</td>\n      <td>118944600</td>\n    </tr>\n    <tr>\n      <th>3</th>\n      <td>2010-01-05</td>\n      <td>6.473147869110107</td>\n      <td>18.129241943359375</td>\n      <td>87.09000396728516</td>\n      <td>7.656428813934326</td>\n      <td>28.174999237060547</td>\n      <td>113.62999725341797</td>\n      <td>7.699643135070801</td>\n      <td>28.4950008392334</td>\n      <td>113.68000030517578</td>\n      <td>7.6160712242126465</td>\n      <td>28.06999969482422</td>\n      <td>112.8499984741211</td>\n      <td>7.664286136627197</td>\n      <td>28.424999237060547</td>\n      <td>113.26000213623047</td>\n      <td>601904800</td>\n      <td>23172400</td>\n      <td>111579900</td>\n    </tr>\n    <tr>\n      <th>4</th>\n      <td>2010-01-06</td>\n      <td>6.370183944702148</td>\n      <td>18.122802734375</td>\n      <td>87.15131378173828</td>\n      <td>7.534643173217773</td>\n      <td>28.165000915527344</td>\n      <td>113.70999908447266</td>\n      <td>7.68678617477417</td>\n      <td>28.219999313354492</td>\n      <td>113.98999786376953</td>\n      <td>7.526785850524902</td>\n      <td>27.989999771118164</td>\n      <td>113.43000030517578</td>\n      <td>7.656428813934326</td>\n      <td>28.174999237060547</td>\n      <td>113.5199966430664</td>\n      <td>552160000</td>\n      <td>19264600</td>\n      <td>116074400</td>\n    </tr>\n    <tr>\n      <th>...</th>\n      <td>...</td>\n      <td>...</td>\n      <td>...</td>\n      <td>...</td>\n      <td>...</td>\n      <td>...</td>\n      <td>...</td>\n      <td>...</td>\n      <td>...</td>\n      <td>...</td>\n      <td>...</td>\n      <td>...</td>\n      <td>...</td>\n      <td>...</td>\n      <td>...</td>\n      <td>...</td>\n      <td>...</td>\n      <td>...</td>\n      <td>...</td>\n    </tr>\n    <tr>\n      <th>2766</th>\n      <td>2020-12-24</td>\n      <td>129.3390655517578</td>\n      <td>48.39203643798828</td>\n      <td>351.8747253417969</td>\n      <td>131.97000122070312</td>\n      <td>53.439998626708984</td>\n      <td>369.0</td>\n      <td>133.4600067138672</td>\n      <td>53.54999923706055</td>\n      <td>369.0299987792969</td>\n      <td>131.10000610351562</td>\n      <td>53.02000045776367</td>\n      <td>367.45001220703125</td>\n      <td>131.32000732421875</td>\n      <td>53.02000045776367</td>\n      <td>368.0799865722656</td>\n      <td>54930100</td>\n      <td>3265500</td>\n      <td>26457900</td>\n    </tr>\n    <tr>\n      <th>2767</th>\n      <td>2020-12-28</td>\n      <td>133.96495056152344</td>\n      <td>49.04402542114258</td>\n      <td>354.8976745605469</td>\n      <td>136.69000244140625</td>\n      <td>54.15999984741211</td>\n      <td>372.1700134277344</td>\n      <td>137.33999633789062</td>\n      <td>54.439998626708984</td>\n      <td>372.5899963378906</td>\n      <td>133.50999450683594</td>\n      <td>53.72999954223633</td>\n      <td>371.07000732421875</td>\n      <td>133.99000549316406</td>\n      <td>53.849998474121094</td>\n      <td>371.739990234375</td>\n      <td>124486200</td>\n      <td>9020500</td>\n      <td>39000400</td>\n    </tr>\n    <tr>\n      <th>2768</th>\n      <td>2020-12-29</td>\n      <td>132.1812286376953</td>\n      <td>49.01686096191406</td>\n      <td>354.2205505371094</td>\n      <td>134.8699951171875</td>\n      <td>54.130001068115234</td>\n      <td>371.4599914550781</td>\n      <td>138.7899932861328</td>\n      <td>54.4900016784668</td>\n      <td>374.0</td>\n      <td>134.33999633789062</td>\n      <td>54.02000045776367</td>\n      <td>370.8299865722656</td>\n      <td>138.0500030517578</td>\n      <td>54.45000076293945</td>\n      <td>373.80999755859375</td>\n      <td>121047300</td>\n      <td>8320600</td>\n      <td>53680500</td>\n    </tr>\n    <tr>\n      <th>2769</th>\n      <td>2020-12-30</td>\n      <td>131.0541534423828</td>\n      <td>49.297576904296875</td>\n      <td>354.72589111328125</td>\n      <td>133.72000122070312</td>\n      <td>54.439998626708984</td>\n      <td>371.989990234375</td>\n      <td>135.99000549316406</td>\n      <td>54.630001068115234</td>\n      <td>373.1000061035156</td>\n      <td>133.39999389648438</td>\n      <td>54.029998779296875</td>\n      <td>371.57000732421875</td>\n      <td>135.5800018310547</td>\n      <td>54.04999923706055</td>\n      <td>372.3399963378906</td>\n      <td>96452100</td>\n      <td>8142700</td>\n      <td>49455300</td>\n    </tr>\n    <tr>\n      <th>2770</th>\n      <td>2020-12-31</td>\n      <td>130.04469299316406</td>\n      <td>49.659793853759766</td>\n      <td>356.52825927734375</td>\n      <td>132.69000244140625</td>\n      <td>54.84000015258789</td>\n      <td>373.8800048828125</td>\n      <td>134.74000549316406</td>\n      <td>54.93000030517578</td>\n      <td>374.6600036621094</td>\n      <td>131.72000122070312</td>\n      <td>54.27000045776367</td>\n      <td>371.2300109863281</td>\n      <td>134.0800018310547</td>\n      <td>54.45000076293945</td>\n      <td>371.7799987792969</td>\n      <td>99116600</td>\n      <td>8495000</td>\n      <td>78520700</td>\n    </tr>\n  </tbody>\n</table>\n<p>2771 rows × 19 columns</p>\n</div>"
     },
     "execution_count": 15,
     "metadata": {},
     "output_type": "execute_result"
    }
   ],
   "source": [
    "# Export stocks into .csv and import it back\n",
    "stocks.to_csv(\"stocksYT.csv\")\n",
    "stocks = pd.read_csv(\"stocksYT.csv\")\n",
    "stocks"
   ],
   "metadata": {
    "collapsed": false,
    "pycharm": {
     "name": "#%%\n"
    }
   }
  },
  {
   "cell_type": "code",
   "execution_count": null,
   "outputs": [],
   "source": [],
   "metadata": {
    "collapsed": false,
    "pycharm": {
     "name": "#%%\n"
    }
   }
  }
 ],
 "metadata": {
  "kernelspec": {
   "display_name": "Python 3",
   "language": "python",
   "name": "python3"
  },
  "language_info": {
   "codemirror_mode": {
    "name": "ipython",
    "version": 2
   },
   "file_extension": ".py",
   "mimetype": "text/x-python",
   "name": "python",
   "nbconvert_exporter": "python",
   "pygments_lexer": "ipython2",
   "version": "2.7.6"
  }
 },
 "nbformat": 4,
 "nbformat_minor": 0
}