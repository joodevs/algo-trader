{
 "cells": [
  {
   "cell_type": "code",
   "execution_count": 2,
   "metadata": {
    "collapsed": true,
    "pycharm": {
     "name": "#%%\n"
    }
   },
   "outputs": [],
   "source": [
    "import yfinance as yf\n",
    "import pandas as pd\n",
    "import numpy as np\n",
    "import matplotlib.pyplot as plt"
   ]
  },
  {
   "cell_type": "code",
   "execution_count": 3,
   "outputs": [
    {
     "name": "stderr",
     "output_type": "stream",
     "text": [
      "[*********************100%%**********************]  1 of 1 completed\n"
     ]
    }
   ],
   "source": [
    "Apple = yf.download(\"AAPL\", start='2010-01-01', end='2021-01-01')"
   ],
   "metadata": {
    "collapsed": false,
    "pycharm": {
     "name": "#%%\n"
    }
   }
  },
  {
   "cell_type": "code",
   "execution_count": 4,
   "outputs": [
    {
     "data": {
      "text/plain": "                  Open        High         Low       Close   Adj Close  \\\nDate                                                                     \n2010-01-04    7.622500    7.660714    7.585000    7.643214    6.461977   \n2010-01-05    7.664286    7.699643    7.616071    7.656429    6.473148   \n2010-01-06    7.656429    7.686786    7.526786    7.534643    6.370184   \n2010-01-07    7.562500    7.571429    7.466071    7.520714    6.358408   \n2010-01-08    7.510714    7.571429    7.466429    7.570714    6.400681   \n...                ...         ...         ...         ...         ...   \n2020-12-24  131.320007  133.460007  131.100006  131.970001  129.339066   \n2020-12-28  133.990005  137.339996  133.509995  136.690002  133.964951   \n2020-12-29  138.050003  138.789993  134.339996  134.869995  132.181229   \n2020-12-30  135.580002  135.990005  133.399994  133.720001  131.054153   \n2020-12-31  134.080002  134.740005  131.720001  132.690002  130.044693   \n\n               Volume  \nDate                   \n2010-01-04  493729600  \n2010-01-05  601904800  \n2010-01-06  552160000  \n2010-01-07  477131200  \n2010-01-08  447610800  \n...               ...  \n2020-12-24   54930100  \n2020-12-28  124486200  \n2020-12-29  121047300  \n2020-12-30   96452100  \n2020-12-31   99116600  \n\n[2769 rows x 6 columns]",
      "text/html": "<div>\n<style scoped>\n    .dataframe tbody tr th:only-of-type {\n        vertical-align: middle;\n    }\n\n    .dataframe tbody tr th {\n        vertical-align: top;\n    }\n\n    .dataframe thead th {\n        text-align: right;\n    }\n</style>\n<table border=\"1\" class=\"dataframe\">\n  <thead>\n    <tr style=\"text-align: right;\">\n      <th></th>\n      <th>Open</th>\n      <th>High</th>\n      <th>Low</th>\n      <th>Close</th>\n      <th>Adj Close</th>\n      <th>Volume</th>\n    </tr>\n    <tr>\n      <th>Date</th>\n      <th></th>\n      <th></th>\n      <th></th>\n      <th></th>\n      <th></th>\n      <th></th>\n    </tr>\n  </thead>\n  <tbody>\n    <tr>\n      <th>2010-01-04</th>\n      <td>7.622500</td>\n      <td>7.660714</td>\n      <td>7.585000</td>\n      <td>7.643214</td>\n      <td>6.461977</td>\n      <td>493729600</td>\n    </tr>\n    <tr>\n      <th>2010-01-05</th>\n      <td>7.664286</td>\n      <td>7.699643</td>\n      <td>7.616071</td>\n      <td>7.656429</td>\n      <td>6.473148</td>\n      <td>601904800</td>\n    </tr>\n    <tr>\n      <th>2010-01-06</th>\n      <td>7.656429</td>\n      <td>7.686786</td>\n      <td>7.526786</td>\n      <td>7.534643</td>\n      <td>6.370184</td>\n      <td>552160000</td>\n    </tr>\n    <tr>\n      <th>2010-01-07</th>\n      <td>7.562500</td>\n      <td>7.571429</td>\n      <td>7.466071</td>\n      <td>7.520714</td>\n      <td>6.358408</td>\n      <td>477131200</td>\n    </tr>\n    <tr>\n      <th>2010-01-08</th>\n      <td>7.510714</td>\n      <td>7.571429</td>\n      <td>7.466429</td>\n      <td>7.570714</td>\n      <td>6.400681</td>\n      <td>447610800</td>\n    </tr>\n    <tr>\n      <th>...</th>\n      <td>...</td>\n      <td>...</td>\n      <td>...</td>\n      <td>...</td>\n      <td>...</td>\n      <td>...</td>\n    </tr>\n    <tr>\n      <th>2020-12-24</th>\n      <td>131.320007</td>\n      <td>133.460007</td>\n      <td>131.100006</td>\n      <td>131.970001</td>\n      <td>129.339066</td>\n      <td>54930100</td>\n    </tr>\n    <tr>\n      <th>2020-12-28</th>\n      <td>133.990005</td>\n      <td>137.339996</td>\n      <td>133.509995</td>\n      <td>136.690002</td>\n      <td>133.964951</td>\n      <td>124486200</td>\n    </tr>\n    <tr>\n      <th>2020-12-29</th>\n      <td>138.050003</td>\n      <td>138.789993</td>\n      <td>134.339996</td>\n      <td>134.869995</td>\n      <td>132.181229</td>\n      <td>121047300</td>\n    </tr>\n    <tr>\n      <th>2020-12-30</th>\n      <td>135.580002</td>\n      <td>135.990005</td>\n      <td>133.399994</td>\n      <td>133.720001</td>\n      <td>131.054153</td>\n      <td>96452100</td>\n    </tr>\n    <tr>\n      <th>2020-12-31</th>\n      <td>134.080002</td>\n      <td>134.740005</td>\n      <td>131.720001</td>\n      <td>132.690002</td>\n      <td>130.044693</td>\n      <td>99116600</td>\n    </tr>\n  </tbody>\n</table>\n<p>2769 rows × 6 columns</p>\n</div>"
     },
     "execution_count": 4,
     "metadata": {},
     "output_type": "execute_result"
    }
   ],
   "source": [
    "Apple"
   ],
   "metadata": {
    "collapsed": false,
    "pycharm": {
     "name": "#%%\n"
    }
   }
  },
  {
   "cell_type": "code",
   "execution_count": 5,
   "outputs": [
    {
     "name": "stderr",
     "output_type": "stream",
     "text": [
      "[*********************100%%**********************]  3 of 3 completed\n"
     ]
    },
    {
     "data": {
      "text/plain": "Price        Adj Close                              Close             \\\nTicker            AAPL         KO         SPY        AAPL         KO   \nDate                                                                   \n2010-01-04    6.461976  18.351238   86.860085    7.643214  28.520000   \n2010-01-05    6.473150  18.129242   87.089973    7.656429  28.174999   \n2010-01-06    6.370184  18.122807   87.151314    7.534643  28.165001   \n2010-01-07    6.358408  18.077766   87.519196    7.520714  28.094999   \n2010-01-08    6.400680  17.743166   87.810432    7.570714  27.575001   \n...                ...        ...         ...         ...        ...   \n2023-12-22  193.091385  57.857216  472.182892  193.600006  58.320000   \n2023-12-26  192.542831  58.095314  474.176697  193.050003  58.560001   \n2023-12-27  192.642548  58.244122  475.034058  193.149994  58.709999   \n2023-12-28  193.071426  58.283806  475.213501  193.580002  58.750000   \n2023-12-29  192.024185  58.462376  473.837769  192.529999  58.930000   \n\nPrice                         High                                Low  \\\nTicker             SPY        AAPL         KO         SPY        AAPL   \nDate                                                                    \n2010-01-04  113.330002    7.660714  28.610001  113.389999    7.585000   \n2010-01-05  113.629997    7.699643  28.495001  113.680000    7.616071   \n2010-01-06  113.709999    7.686786  28.219999  113.989998    7.526786   \n2010-01-07  114.190002    7.571429  28.184999  114.330002    7.466071   \n2010-01-08  114.570000    7.571429  27.820000  114.620003    7.466429   \n...                ...         ...        ...         ...         ...   \n2023-12-22  473.649994  195.410004  58.459999  475.380005  192.970001   \n2023-12-26  475.649994  193.889999  58.709999  476.579987  192.830002   \n2023-12-27  476.510010  193.500000  58.770000  476.660004  191.089996   \n2023-12-28  476.690002  194.660004  58.869999  477.549988  193.169998   \n2023-12-29  475.309998  194.399994  58.980000  477.029999  191.729996   \n\nPrice                                    Open                         \\\nTicker             KO         SPY        AAPL         KO         SPY   \nDate                                                                   \n2010-01-04  28.450001  111.510002    7.622500  28.580000  112.370003   \n2010-01-05  28.070000  112.849998    7.664286  28.424999  113.260002   \n2010-01-06  27.990000  113.430000    7.656429  28.174999  113.519997   \n2010-01-07  27.875000  113.180000    7.562500  28.165001  113.500000   \n2010-01-08  27.375000  113.660004    7.510714  27.730000  113.889999   \n...               ...         ...         ...        ...         ...   \n2023-12-22  58.020000  471.700012  195.179993  58.119999  473.859985   \n2023-12-26  58.060001  473.989990  193.610001  58.060001  474.070007   \n2023-12-27  58.400002  474.890015  192.490005  58.639999  475.440002   \n2023-12-28  58.529999  476.260010  194.139999  58.650002  476.880005   \n2023-12-29  58.630001  473.299988  193.899994  58.740002  476.489990   \n\nPrice          Volume                       \nTicker           AAPL        KO        SPY  \nDate                                        \n2010-01-04  493729600  13870400  118944600  \n2010-01-05  601904800  23172400  111579900  \n2010-01-06  552160000  19264600  116074400  \n2010-01-07  477131200  13234600  131091100  \n2010-01-08  447610800  28712400  126402800  \n...               ...       ...        ...  \n2023-12-22   37122800   9028500   67126600  \n2023-12-26   28919300   6422500   55387000  \n2023-12-27   48087700   8560100   68000300  \n2023-12-28   34049900   8400100   77158100  \n2023-12-29   42628800   9241600  122234100  \n\n[3522 rows x 18 columns]",
      "text/html": "<div>\n<style scoped>\n    .dataframe tbody tr th:only-of-type {\n        vertical-align: middle;\n    }\n\n    .dataframe tbody tr th {\n        vertical-align: top;\n    }\n\n    .dataframe thead tr th {\n        text-align: left;\n    }\n\n    .dataframe thead tr:last-of-type th {\n        text-align: right;\n    }\n</style>\n<table border=\"1\" class=\"dataframe\">\n  <thead>\n    <tr>\n      <th>Price</th>\n      <th colspan=\"3\" halign=\"left\">Adj Close</th>\n      <th colspan=\"3\" halign=\"left\">Close</th>\n      <th colspan=\"3\" halign=\"left\">High</th>\n      <th colspan=\"3\" halign=\"left\">Low</th>\n      <th colspan=\"3\" halign=\"left\">Open</th>\n      <th colspan=\"3\" halign=\"left\">Volume</th>\n    </tr>\n    <tr>\n      <th>Ticker</th>\n      <th>AAPL</th>\n      <th>KO</th>\n      <th>SPY</th>\n      <th>AAPL</th>\n      <th>KO</th>\n      <th>SPY</th>\n      <th>AAPL</th>\n      <th>KO</th>\n      <th>SPY</th>\n      <th>AAPL</th>\n      <th>KO</th>\n      <th>SPY</th>\n      <th>AAPL</th>\n      <th>KO</th>\n      <th>SPY</th>\n      <th>AAPL</th>\n      <th>KO</th>\n      <th>SPY</th>\n    </tr>\n    <tr>\n      <th>Date</th>\n      <th></th>\n      <th></th>\n      <th></th>\n      <th></th>\n      <th></th>\n      <th></th>\n      <th></th>\n      <th></th>\n      <th></th>\n      <th></th>\n      <th></th>\n      <th></th>\n      <th></th>\n      <th></th>\n      <th></th>\n      <th></th>\n      <th></th>\n      <th></th>\n    </tr>\n  </thead>\n  <tbody>\n    <tr>\n      <th>2010-01-04</th>\n      <td>6.461976</td>\n      <td>18.351238</td>\n      <td>86.860085</td>\n      <td>7.643214</td>\n      <td>28.520000</td>\n      <td>113.330002</td>\n      <td>7.660714</td>\n      <td>28.610001</td>\n      <td>113.389999</td>\n      <td>7.585000</td>\n      <td>28.450001</td>\n      <td>111.510002</td>\n      <td>7.622500</td>\n      <td>28.580000</td>\n      <td>112.370003</td>\n      <td>493729600</td>\n      <td>13870400</td>\n      <td>118944600</td>\n    </tr>\n    <tr>\n      <th>2010-01-05</th>\n      <td>6.473150</td>\n      <td>18.129242</td>\n      <td>87.089973</td>\n      <td>7.656429</td>\n      <td>28.174999</td>\n      <td>113.629997</td>\n      <td>7.699643</td>\n      <td>28.495001</td>\n      <td>113.680000</td>\n      <td>7.616071</td>\n      <td>28.070000</td>\n      <td>112.849998</td>\n      <td>7.664286</td>\n      <td>28.424999</td>\n      <td>113.260002</td>\n      <td>601904800</td>\n      <td>23172400</td>\n      <td>111579900</td>\n    </tr>\n    <tr>\n      <th>2010-01-06</th>\n      <td>6.370184</td>\n      <td>18.122807</td>\n      <td>87.151314</td>\n      <td>7.534643</td>\n      <td>28.165001</td>\n      <td>113.709999</td>\n      <td>7.686786</td>\n      <td>28.219999</td>\n      <td>113.989998</td>\n      <td>7.526786</td>\n      <td>27.990000</td>\n      <td>113.430000</td>\n      <td>7.656429</td>\n      <td>28.174999</td>\n      <td>113.519997</td>\n      <td>552160000</td>\n      <td>19264600</td>\n      <td>116074400</td>\n    </tr>\n    <tr>\n      <th>2010-01-07</th>\n      <td>6.358408</td>\n      <td>18.077766</td>\n      <td>87.519196</td>\n      <td>7.520714</td>\n      <td>28.094999</td>\n      <td>114.190002</td>\n      <td>7.571429</td>\n      <td>28.184999</td>\n      <td>114.330002</td>\n      <td>7.466071</td>\n      <td>27.875000</td>\n      <td>113.180000</td>\n      <td>7.562500</td>\n      <td>28.165001</td>\n      <td>113.500000</td>\n      <td>477131200</td>\n      <td>13234600</td>\n      <td>131091100</td>\n    </tr>\n    <tr>\n      <th>2010-01-08</th>\n      <td>6.400680</td>\n      <td>17.743166</td>\n      <td>87.810432</td>\n      <td>7.570714</td>\n      <td>27.575001</td>\n      <td>114.570000</td>\n      <td>7.571429</td>\n      <td>27.820000</td>\n      <td>114.620003</td>\n      <td>7.466429</td>\n      <td>27.375000</td>\n      <td>113.660004</td>\n      <td>7.510714</td>\n      <td>27.730000</td>\n      <td>113.889999</td>\n      <td>447610800</td>\n      <td>28712400</td>\n      <td>126402800</td>\n    </tr>\n    <tr>\n      <th>...</th>\n      <td>...</td>\n      <td>...</td>\n      <td>...</td>\n      <td>...</td>\n      <td>...</td>\n      <td>...</td>\n      <td>...</td>\n      <td>...</td>\n      <td>...</td>\n      <td>...</td>\n      <td>...</td>\n      <td>...</td>\n      <td>...</td>\n      <td>...</td>\n      <td>...</td>\n      <td>...</td>\n      <td>...</td>\n      <td>...</td>\n    </tr>\n    <tr>\n      <th>2023-12-22</th>\n      <td>193.091385</td>\n      <td>57.857216</td>\n      <td>472.182892</td>\n      <td>193.600006</td>\n      <td>58.320000</td>\n      <td>473.649994</td>\n      <td>195.410004</td>\n      <td>58.459999</td>\n      <td>475.380005</td>\n      <td>192.970001</td>\n      <td>58.020000</td>\n      <td>471.700012</td>\n      <td>195.179993</td>\n      <td>58.119999</td>\n      <td>473.859985</td>\n      <td>37122800</td>\n      <td>9028500</td>\n      <td>67126600</td>\n    </tr>\n    <tr>\n      <th>2023-12-26</th>\n      <td>192.542831</td>\n      <td>58.095314</td>\n      <td>474.176697</td>\n      <td>193.050003</td>\n      <td>58.560001</td>\n      <td>475.649994</td>\n      <td>193.889999</td>\n      <td>58.709999</td>\n      <td>476.579987</td>\n      <td>192.830002</td>\n      <td>58.060001</td>\n      <td>473.989990</td>\n      <td>193.610001</td>\n      <td>58.060001</td>\n      <td>474.070007</td>\n      <td>28919300</td>\n      <td>6422500</td>\n      <td>55387000</td>\n    </tr>\n    <tr>\n      <th>2023-12-27</th>\n      <td>192.642548</td>\n      <td>58.244122</td>\n      <td>475.034058</td>\n      <td>193.149994</td>\n      <td>58.709999</td>\n      <td>476.510010</td>\n      <td>193.500000</td>\n      <td>58.770000</td>\n      <td>476.660004</td>\n      <td>191.089996</td>\n      <td>58.400002</td>\n      <td>474.890015</td>\n      <td>192.490005</td>\n      <td>58.639999</td>\n      <td>475.440002</td>\n      <td>48087700</td>\n      <td>8560100</td>\n      <td>68000300</td>\n    </tr>\n    <tr>\n      <th>2023-12-28</th>\n      <td>193.071426</td>\n      <td>58.283806</td>\n      <td>475.213501</td>\n      <td>193.580002</td>\n      <td>58.750000</td>\n      <td>476.690002</td>\n      <td>194.660004</td>\n      <td>58.869999</td>\n      <td>477.549988</td>\n      <td>193.169998</td>\n      <td>58.529999</td>\n      <td>476.260010</td>\n      <td>194.139999</td>\n      <td>58.650002</td>\n      <td>476.880005</td>\n      <td>34049900</td>\n      <td>8400100</td>\n      <td>77158100</td>\n    </tr>\n    <tr>\n      <th>2023-12-29</th>\n      <td>192.024185</td>\n      <td>58.462376</td>\n      <td>473.837769</td>\n      <td>192.529999</td>\n      <td>58.930000</td>\n      <td>475.309998</td>\n      <td>194.399994</td>\n      <td>58.980000</td>\n      <td>477.029999</td>\n      <td>191.729996</td>\n      <td>58.630001</td>\n      <td>473.299988</td>\n      <td>193.899994</td>\n      <td>58.740002</td>\n      <td>476.489990</td>\n      <td>42628800</td>\n      <td>9241600</td>\n      <td>122234100</td>\n    </tr>\n  </tbody>\n</table>\n<p>3522 rows × 18 columns</p>\n</div>"
     },
     "execution_count": 5,
     "metadata": {},
     "output_type": "execute_result"
    }
   ],
   "source": [
    "ticker = [\"SPY\", \"AAPL\", \"KO\"]\n",
    "stocks = yf.download(ticker, start='2010-01-01', end='2024-01-01')\n",
    "stocks"
   ],
   "metadata": {
    "collapsed": false,
    "pycharm": {
     "name": "#%%\n"
    }
   }
  },
  {
   "cell_type": "code",
   "execution_count": 7,
   "outputs": [
    {
     "data": {
      "text/plain": "Price      Adj Close                           Close                         \\\nTicker          AAPL         KO        SPY      AAPL         KO         SPY   \nDate                                                                          \n2010-01-04  6.461976  18.351238  86.860085  7.643214  28.520000  113.330002   \n2010-01-05  6.473150  18.129242  87.089973  7.656429  28.174999  113.629997   \n2010-01-06  6.370184  18.122807  87.151314  7.534643  28.165001  113.709999   \n2010-01-07  6.358408  18.077766  87.519196  7.520714  28.094999  114.190002   \n2010-01-08  6.400680  17.743166  87.810432  7.570714  27.575001  114.570000   \n\nPrice           High                              Low                         \\\nTicker          AAPL         KO         SPY      AAPL         KO         SPY   \nDate                                                                           \n2010-01-04  7.660714  28.610001  113.389999  7.585000  28.450001  111.510002   \n2010-01-05  7.699643  28.495001  113.680000  7.616071  28.070000  112.849998   \n2010-01-06  7.686786  28.219999  113.989998  7.526786  27.990000  113.430000   \n2010-01-07  7.571429  28.184999  114.330002  7.466071  27.875000  113.180000   \n2010-01-08  7.571429  27.820000  114.620003  7.466429  27.375000  113.660004   \n\nPrice           Open                            Volume                       \nTicker          AAPL         KO         SPY       AAPL        KO        SPY  \nDate                                                                         \n2010-01-04  7.622500  28.580000  112.370003  493729600  13870400  118944600  \n2010-01-05  7.664286  28.424999  113.260002  601904800  23172400  111579900  \n2010-01-06  7.656429  28.174999  113.519997  552160000  19264600  116074400  \n2010-01-07  7.562500  28.165001  113.500000  477131200  13234600  131091100  \n2010-01-08  7.510714  27.730000  113.889999  447610800  28712400  126402800  ",
      "text/html": "<div>\n<style scoped>\n    .dataframe tbody tr th:only-of-type {\n        vertical-align: middle;\n    }\n\n    .dataframe tbody tr th {\n        vertical-align: top;\n    }\n\n    .dataframe thead tr th {\n        text-align: left;\n    }\n\n    .dataframe thead tr:last-of-type th {\n        text-align: right;\n    }\n</style>\n<table border=\"1\" class=\"dataframe\">\n  <thead>\n    <tr>\n      <th>Price</th>\n      <th colspan=\"3\" halign=\"left\">Adj Close</th>\n      <th colspan=\"3\" halign=\"left\">Close</th>\n      <th colspan=\"3\" halign=\"left\">High</th>\n      <th colspan=\"3\" halign=\"left\">Low</th>\n      <th colspan=\"3\" halign=\"left\">Open</th>\n      <th colspan=\"3\" halign=\"left\">Volume</th>\n    </tr>\n    <tr>\n      <th>Ticker</th>\n      <th>AAPL</th>\n      <th>KO</th>\n      <th>SPY</th>\n      <th>AAPL</th>\n      <th>KO</th>\n      <th>SPY</th>\n      <th>AAPL</th>\n      <th>KO</th>\n      <th>SPY</th>\n      <th>AAPL</th>\n      <th>KO</th>\n      <th>SPY</th>\n      <th>AAPL</th>\n      <th>KO</th>\n      <th>SPY</th>\n      <th>AAPL</th>\n      <th>KO</th>\n      <th>SPY</th>\n    </tr>\n    <tr>\n      <th>Date</th>\n      <th></th>\n      <th></th>\n      <th></th>\n      <th></th>\n      <th></th>\n      <th></th>\n      <th></th>\n      <th></th>\n      <th></th>\n      <th></th>\n      <th></th>\n      <th></th>\n      <th></th>\n      <th></th>\n      <th></th>\n      <th></th>\n      <th></th>\n      <th></th>\n    </tr>\n  </thead>\n  <tbody>\n    <tr>\n      <th>2010-01-04</th>\n      <td>6.461976</td>\n      <td>18.351238</td>\n      <td>86.860085</td>\n      <td>7.643214</td>\n      <td>28.520000</td>\n      <td>113.330002</td>\n      <td>7.660714</td>\n      <td>28.610001</td>\n      <td>113.389999</td>\n      <td>7.585000</td>\n      <td>28.450001</td>\n      <td>111.510002</td>\n      <td>7.622500</td>\n      <td>28.580000</td>\n      <td>112.370003</td>\n      <td>493729600</td>\n      <td>13870400</td>\n      <td>118944600</td>\n    </tr>\n    <tr>\n      <th>2010-01-05</th>\n      <td>6.473150</td>\n      <td>18.129242</td>\n      <td>87.089973</td>\n      <td>7.656429</td>\n      <td>28.174999</td>\n      <td>113.629997</td>\n      <td>7.699643</td>\n      <td>28.495001</td>\n      <td>113.680000</td>\n      <td>7.616071</td>\n      <td>28.070000</td>\n      <td>112.849998</td>\n      <td>7.664286</td>\n      <td>28.424999</td>\n      <td>113.260002</td>\n      <td>601904800</td>\n      <td>23172400</td>\n      <td>111579900</td>\n    </tr>\n    <tr>\n      <th>2010-01-06</th>\n      <td>6.370184</td>\n      <td>18.122807</td>\n      <td>87.151314</td>\n      <td>7.534643</td>\n      <td>28.165001</td>\n      <td>113.709999</td>\n      <td>7.686786</td>\n      <td>28.219999</td>\n      <td>113.989998</td>\n      <td>7.526786</td>\n      <td>27.990000</td>\n      <td>113.430000</td>\n      <td>7.656429</td>\n      <td>28.174999</td>\n      <td>113.519997</td>\n      <td>552160000</td>\n      <td>19264600</td>\n      <td>116074400</td>\n    </tr>\n    <tr>\n      <th>2010-01-07</th>\n      <td>6.358408</td>\n      <td>18.077766</td>\n      <td>87.519196</td>\n      <td>7.520714</td>\n      <td>28.094999</td>\n      <td>114.190002</td>\n      <td>7.571429</td>\n      <td>28.184999</td>\n      <td>114.330002</td>\n      <td>7.466071</td>\n      <td>27.875000</td>\n      <td>113.180000</td>\n      <td>7.562500</td>\n      <td>28.165001</td>\n      <td>113.500000</td>\n      <td>477131200</td>\n      <td>13234600</td>\n      <td>131091100</td>\n    </tr>\n    <tr>\n      <th>2010-01-08</th>\n      <td>6.400680</td>\n      <td>17.743166</td>\n      <td>87.810432</td>\n      <td>7.570714</td>\n      <td>27.575001</td>\n      <td>114.570000</td>\n      <td>7.571429</td>\n      <td>27.820000</td>\n      <td>114.620003</td>\n      <td>7.466429</td>\n      <td>27.375000</td>\n      <td>113.660004</td>\n      <td>7.510714</td>\n      <td>27.730000</td>\n      <td>113.889999</td>\n      <td>447610800</td>\n      <td>28712400</td>\n      <td>126402800</td>\n    </tr>\n  </tbody>\n</table>\n</div>"
     },
     "execution_count": 7,
     "metadata": {},
     "output_type": "execute_result"
    }
   ],
   "source": [
    "stocks.head()"
   ],
   "metadata": {
    "collapsed": false,
    "pycharm": {
     "name": "#%%\n"
    }
   }
  },
  {
   "cell_type": "code",
   "execution_count": null,
   "outputs": [],
   "source": [],
   "metadata": {
    "collapsed": false,
    "pycharm": {
     "name": "#%%\n"
    }
   }
  }
 ],
 "metadata": {
  "kernelspec": {
   "display_name": "Python 3",
   "language": "python",
   "name": "python3"
  },
  "language_info": {
   "codemirror_mode": {
    "name": "ipython",
    "version": 2
   },
   "file_extension": ".py",
   "mimetype": "text/x-python",
   "name": "python",
   "nbconvert_exporter": "python",
   "pygments_lexer": "ipython2",
   "version": "2.7.6"
  }
 },
 "nbformat": 4,
 "nbformat_minor": 0
}