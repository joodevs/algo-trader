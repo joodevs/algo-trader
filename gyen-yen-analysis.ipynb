{
 "cells": [
  {
   "cell_type": "markdown",
   "source": [
    "# Step 1: Data Collection"
   ],
   "metadata": {
    "collapsed": false,
    "pycharm": {
     "name": "#%% md\n"
    }
   }
  },
  {
   "cell_type": "markdown",
   "source": [
    "## 1. Collecting GYEN Data:"
   ],
   "metadata": {
    "collapsed": false,
    "pycharm": {
     "name": "#%% md\n"
    }
   }
  },
  {
   "cell_type": "code",
   "execution_count": null,
   "outputs": [],
   "source": [
    "import ccxt\n",
    "\n",
    "# List of exchanges to try\n",
    "exchanges = ['kraken', 'huobi', 'bitfinex', 'coinbase']\n",
    "\n",
    "for exchange_name in exchanges:\n",
    "    try:\n",
    "        exchange = getattr(ccxt, exchange_name)()\n",
    "        markets = exchange.load_markets()\n",
    "        for market in markets:\n",
    "            if 'GYEN' in market:\n",
    "                print(f'{market} found on {exchange_name}')\n",
    "    except Exception as e:\n",
    "        print(f\"Error with {exchange_name}: {e}\")"
   ],
   "metadata": {
    "collapsed": false,
    "pycharm": {
     "name": "#%%\n",
     "is_executing": true
    }
   }
  },
  {
   "cell_type": "code",
   "execution_count": null,
   "outputs": [],
   "source": [
    "import ccxt\n",
    "import pandas as pd\n",
    "\n",
    "# Initialize the Coinbase API\n",
    "exchange = ccxt.coinbase()\n",
    "\n",
    "# Set the start date to March 12, 2021, at 9 AM (UTC)\n",
    "start_date = '2021-03-12T09:00:00Z'\n",
    "\n",
    "# Fetch GYEN/USD data from Coinbase\n",
    "ohlcv = exchange.fetch_ohlcv('GYEN/USD', timeframe='1d', since=exchange.parse8601(start_date))\n",
    "\n",
    "# Convert to DataFrame\n",
    "columns = ['timestamp', 'open', 'high', 'low', 'close', 'volume']\n",
    "gyen_usd_df = pd.DataFrame(ohlcv, columns=columns)\n",
    "\n",
    "# Convert timestamp to datetime\n",
    "gyen_usd_df['timestamp'] = pd.to_datetime(gyen_usd_df['timestamp'], unit='ms')\n",
    "\n",
    "# Display the first few rows\n",
    "print(gyen_usd_df.head())\n",
    "\n",
    "# Save to CSV if needed\n",
    "gyen_usd_df.to_csv('GYEN_USD_data_coinbase.csv')"
   ],
   "metadata": {
    "collapsed": false,
    "pycharm": {
     "name": "#%%\n",
     "is_executing": true
    }
   }
  },
  {
   "cell_type": "code",
   "execution_count": null,
   "outputs": [],
   "source": [],
   "metadata": {
    "collapsed": false,
    "pycharm": {
     "name": "#%%\n",
     "is_executing": true
    }
   }
  }
 ],
 "metadata": {
  "kernelspec": {
   "display_name": "Python 3",
   "language": "python",
   "name": "python3"
  },
  "language_info": {
   "codemirror_mode": {
    "name": "ipython",
    "version": 2
   },
   "file_extension": ".py",
   "mimetype": "text/x-python",
   "name": "python",
   "nbconvert_exporter": "python",
   "pygments_lexer": "ipython2",
   "version": "2.7.6"
  }
 },
 "nbformat": 4,
 "nbformat_minor": 0
}