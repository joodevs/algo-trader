{
 "cells": [
  {
   "cell_type": "markdown",
   "source": [
    "# Step 1: Data Collection"
   ],
   "metadata": {
    "collapsed": false,
    "pycharm": {
     "name": "#%% md\n"
    }
   }
  },
  {
   "cell_type": "markdown",
   "source": [
    "## 1. Collecting YEN Data:"
   ],
   "metadata": {
    "collapsed": false,
    "pycharm": {
     "name": "#%% md\n"
    }
   }
  },
  {
   "cell_type": "code",
   "execution_count": 16,
   "outputs": [
    {
     "name": "stderr",
     "output_type": "stream",
     "text": [
      "[*********************100%%**********************]  1 of 1 completed"
     ]
    },
    {
     "name": "stdout",
     "output_type": "stream",
     "text": [
      "                  Open        High         Low       Close   Adj Close  Volume\n",
      "Date                                                                          \n",
      "2015-01-01  119.672997  119.672997  119.672997  119.672997  119.672997       0\n",
      "2015-01-02  119.889999  120.736000  119.835999  119.870003  119.870003       0\n",
      "2015-01-05  120.389000  120.608002  119.411003  120.433998  120.433998       0\n",
      "2015-01-06  119.416000  119.497002  118.680000  119.425003  119.425003       0\n",
      "2015-01-07  118.674004  119.639000  118.674004  118.672997  118.672997       0\n"
     ]
    },
    {
     "name": "stderr",
     "output_type": "stream",
     "text": [
      "\n"
     ]
    }
   ],
   "source": [
    "import yfinance as yf\n",
    "import pandas as pd\n",
    "\n",
    "# Downloading JPY/USD data\n",
    "jpy_usd = yf.download('JPY=X', start='2015-01-01', end='2023-01-01', interval='1d')\n",
    "\n",
    "# Display the first few rows\n",
    "print(jpy_usd.head())\n",
    "\n",
    "# Save to CSV\n",
    "jpy_usd.to_csv('JPY_USD_data.csv')"
   ],
   "metadata": {
    "collapsed": false,
    "pycharm": {
     "name": "#%%\n"
    }
   }
  },
  {
   "cell_type": "markdown",
   "source": [
    "## 2. Collecting GYEN Data:"
   ],
   "metadata": {
    "collapsed": false,
    "pycharm": {
     "name": "#%% md\n"
    }
   }
  },
  {
   "cell_type": "code",
   "execution_count": 15,
   "outputs": [
    {
     "name": "stdout",
     "output_type": "stream",
     "text": [
      "GYEN/USDC found on coinbase\n",
      "GYEN/USD found on coinbase\n"
     ]
    }
   ],
   "source": [
    "import ccxt\n",
    "\n",
    "# List of exchanges to try\n",
    "exchanges = ['kraken', 'huobi', 'bitfinex', 'coinbase']\n",
    "\n",
    "for exchange_name in exchanges:\n",
    "    try:\n",
    "        exchange = getattr(ccxt, exchange_name)()\n",
    "        markets = exchange.load_markets()\n",
    "        for market in markets:\n",
    "            if 'GYEN' in market:\n",
    "                print(f'{market} found on {exchange_name}')\n",
    "    except Exception as e:\n",
    "        print(f\"Error with {exchange_name}: {e}\")"
   ],
   "metadata": {
    "collapsed": false,
    "pycharm": {
     "name": "#%%\n"
    }
   }
  },
  {
   "cell_type": "code",
   "execution_count": 14,
   "outputs": [
    {
     "name": "stdout",
     "output_type": "stream",
     "text": [
      "   timestamp      open      high       low     close        volume\n",
      "0 2021-11-15  0.009000  0.016237  0.009000  0.012800  1.858069e+09\n",
      "1 2021-11-16  0.012799  0.013155  0.008823  0.009886  3.118436e+09\n",
      "2 2021-11-17  0.009882  0.067231  0.009601  0.045885  1.597727e+10\n",
      "3 2021-11-18  0.045721  0.048001  0.010320  0.011099  1.478986e+10\n",
      "4 2021-11-19  0.011099  0.014600  0.008250  0.008649  1.846796e+10\n"
     ]
    }
   ],
   "source": [
    "import ccxt\n",
    "import pandas as pd\n",
    "\n",
    "# Initialize the Coinbase API\n",
    "exchange = ccxt.coinbase()\n",
    "\n",
    "# Set the start date to March 12, 2021, at 9 AM (UTC)\n",
    "start_date = '2021-03-12T09:00:00Z'\n",
    "\n",
    "# Fetch GYEN/USD data from Coinbase\n",
    "ohlcv = exchange.fetch_ohlcv('GYEN/USD', timeframe='1d', since=exchange.parse8601(start_date))\n",
    "\n",
    "# Convert to DataFrame\n",
    "columns = ['timestamp', 'open', 'high', 'low', 'close', 'volume']\n",
    "gyen_usd_df = pd.DataFrame(ohlcv, columns=columns)\n",
    "\n",
    "# Convert timestamp to datetime\n",
    "gyen_usd_df['timestamp'] = pd.to_datetime(gyen_usd_df['timestamp'], unit='ms')\n",
    "\n",
    "# Display the first few rows\n",
    "print(gyen_usd_df.head())\n",
    "\n",
    "# Save to CSV if needed\n",
    "gyen_usd_df.to_csv('GYEN_USD_data.csv')"
   ],
   "metadata": {
    "collapsed": false,
    "pycharm": {
     "name": "#%%\n"
    }
   }
  },
  {
   "cell_type": "code",
   "execution_count": 14,
   "outputs": [],
   "source": [],
   "metadata": {
    "collapsed": false,
    "pycharm": {
     "name": "#%%\n"
    }
   }
  }
 ],
 "metadata": {
  "kernelspec": {
   "display_name": "Python 3",
   "language": "python",
   "name": "python3"
  },
  "language_info": {
   "codemirror_mode": {
    "name": "ipython",
    "version": 2
   },
   "file_extension": ".py",
   "mimetype": "text/x-python",
   "name": "python",
   "nbconvert_exporter": "python",
   "pygments_lexer": "ipython2",
   "version": "2.7.6"
  }
 },
 "nbformat": 4,
 "nbformat_minor": 0
}